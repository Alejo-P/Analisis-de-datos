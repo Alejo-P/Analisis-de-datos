{
 "cells": [
  {
   "cell_type": "code",
   "execution_count": 1,
   "id": "a39c4c60-dbb1-4ba4-8ab2-63d8ae394814",
   "metadata": {},
   "outputs": [
    {
     "name": "stdout",
     "output_type": "stream",
     "text": [
      "Los datos han sido exportados exitosamente a file3_exportado.csv\n"
     ]
    }
   ],
   "source": [
    "import sqlite3\n",
    "import pandas as pd\n",
    "\n",
    "# Especifica la ruta del archivo SQLite\n",
    "ruta_db_importar = 'file3.db'\n",
    "\n",
    "# Conecta a la base de datos SQLite\n",
    "conexion_importar = sqlite3.connect(ruta_db_importar)\n",
    "\n",
    "# Ejemplo: ejecutar una consulta para verificar las primeras filas de una tabla (reemplaza 'nombre_de_tabla' con el nombre real)\n",
    "consulta_sql = 'SELECT * FROM file3 LIMIT 5'\n",
    "df = pd.read_sql_query(consulta_sql, conexion_importar)\n",
    "\n",
    "# Especifica el nombre del archivo CSV de salida\n",
    "archivo_csv_salida = 'file3_exportado.csv'\n",
    "\n",
    "# Exporta el DataFrame a un archivo CSV\n",
    "df.to_csv(archivo_csv_salida, index=False)\n",
    "\n",
    "# Cierra la conexión a la base de datos\n",
    "conexion_importar.close()\n",
    "\n",
    "# Imprime un mensaje indicando que la exportación fue exitosa\n",
    "print(f'Los datos han sido exportados exitosamente a {archivo_csv_salida}')\n"
   ]
  }
 ],
 "metadata": {
  "kernelspec": {
   "display_name": "Python 3 (ipykernel)",
   "language": "python",
   "name": "python3"
  },
  "language_info": {
   "codemirror_mode": {
    "name": "ipython",
    "version": 3
   },
   "file_extension": ".py",
   "mimetype": "text/x-python",
   "name": "python",
   "nbconvert_exporter": "python",
   "pygments_lexer": "ipython3",
   "version": "3.12.0"
  }
 },
 "nbformat": 4,
 "nbformat_minor": 5
}
