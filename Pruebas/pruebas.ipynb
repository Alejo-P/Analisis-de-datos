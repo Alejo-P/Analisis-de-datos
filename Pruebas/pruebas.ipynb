{
 "cells": [
  {
   "cell_type": "code",
   "execution_count": 1,
   "id": "c70dacee-030c-4056-aa86-6a3cd690668b",
   "metadata": {},
   "outputs": [
    {
     "name": "stdout",
     "output_type": "stream",
     "text": [
      "(1, 'El señor de los anillos', 'J.R.R. Tolkien', 'Fantasía', 29.99)\n",
      "(2, 'Cien años de soledad', 'Gabriel García Márquez', 'Realismo mágico', 24.99)\n",
      "(3, '1984', 'George Orwell', 'Distopía', 19.99)\n",
      "(4, 'Orgullo y prejuicio', 'Jane Austen', 'Romance', 17.99)\n",
      "(5, 'Harry Potter y la piedra filosofal', 'J.K. Rowling', 'Fantasía', 22.99)\n",
      "(6, 'Crónica de una muerte anunciada', 'Gabriel García Márquez', 'Realismo mágico', 18.99)\n",
      "(7, 'Don Quijote de la Mancha', 'Miguel de Cervantes', 'Novela de caballería', 26.99)\n",
      "(8, 'Matar a un ruiseñor', 'Harper Lee', 'Drama', 21.99)\n",
      "(9, 'La odisea', 'Homero', 'Épico', 28.99)\n",
      "(10, 'Drácula', 'Bram Stoker', 'Terror', 25.99)\n"
     ]
    }
   ],
   "source": [
    "import mysql.connector\n",
    "\n",
    "# Establecer la conexión a la base de datos\n",
    "conexion = mysql.connector.connect(\n",
    "    host=\"127.0.0.1\",\n",
    "    user=\"root\",\n",
    "    password=\"AP_@l3j0_2004\",\n",
    "    database=\"bibliotecatm\"\n",
    ")\n",
    "\n",
    "# Crear un objeto cursor para interactuar con la base de datos\n",
    "cursor = conexion.cursor()\n",
    "\n",
    "# Ejecutar una consulta SELECT\n",
    "cursor.execute(\"SELECT * FROM Libro\")\n",
    "resultados = cursor.fetchall()\n",
    "for fila in resultados:\n",
    "    print(fila)\n",
    "\n",
    "# Ejecutar una consulta INSERT\n",
    "#cursor.execute(\"INSERT INTO tu_tabla (columna1, columna2) VALUES (%s, %s)\", (\"valor1\", \"valor2\"))\n",
    "conexion.commit()\n",
    "\n",
    "# Cerrar el cursor y la conexión\n",
    "cursor.close()\n",
    "conexion.close()"
   ]
  },
  {
   "cell_type": "code",
   "execution_count": null,
   "id": "a4cd4cab-e0cf-4844-84db-1284bf62f951",
   "metadata": {},
   "outputs": [],
   "source": []
  }
 ],
 "metadata": {
  "kernelspec": {
   "display_name": "Python 3 (ipykernel)",
   "language": "python",
   "name": "python3"
  },
  "language_info": {
   "codemirror_mode": {
    "name": "ipython",
    "version": 3
   },
   "file_extension": ".py",
   "mimetype": "text/x-python",
   "name": "python",
   "nbconvert_exporter": "python",
   "pygments_lexer": "ipython3",
   "version": "3.12.0"
  }
 },
 "nbformat": 4,
 "nbformat_minor": 5
}
