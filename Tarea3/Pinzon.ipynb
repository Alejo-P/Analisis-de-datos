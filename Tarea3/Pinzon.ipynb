{
 "cells": [
  {
   "cell_type": "code",
   "execution_count": 2,
   "metadata": {},
   "outputs": [],
   "source": [
    "# Importar las bibliotecas necesarias para el Web Scraping\n",
    "from bs4 import BeautifulSoup\n",
    "import requests, os"
   ]
  },
  {
   "cell_type": "code",
   "execution_count": 12,
   "metadata": {},
   "outputs": [],
   "source": [
    "url = \"https://www.elcomercio.com/tendencias/\" # URL de la pagina seleccionada\n",
    "respuesta = requests.get(url)\n",
    "# Comprobar si la consulta fue exitosa (codigo 200) o fracaso (codigo 404 o cualquier otro)\n",
    "if respuesta.status_code == 200:\n",
    "    contenido = respuesta.content\n",
    "    datos = BeautifulSoup(contenido, \"html.parser\")\n",
    "else:\n",
    "    print(\"URL invalida\")\n"
   ]
  },
  {
   "cell_type": "code",
   "execution_count": 15,
   "metadata": {},
   "outputs": [
    {
     "name": "stdout",
     "output_type": "stream",
     "text": [
      "Google Drive dejará de funcionar en algunas versiones de Windows desde agosto\n",
      "Elon Musk y  Jack Dorsey señalan que Threads recolecta datos muy sensibles\n",
      "El declive de Skype: de ser la plataforma favorita de videollamadas a verse eclipsada por Teams y Zoom\n",
      "Computadora de Cristina Reyes fue robada; pide que le devuelvan sus poemas\n",
      "Restricciones de Twitter son para proteger los datos de la IA\n",
      "La historia de la joven que vende sus fotos en OnlyFans para pagar tratamiento del cáncer\n",
      "¿Qué son los cálculos renales?\n",
      "Gerard Piqué y Shakira tenían una relación abierta, según la prensa española\n",
      "¿PESO PLUMA flechó a BELINDA?\n",
      "Despiden enfermera al no reportar la muerte de un paciente con el que tenía sexo\n",
      "Bartender representa a Ecuador en concurso en Francia\n",
      "Blackpink\n",
      "Los estrenos de Netflix, Disney+ y HBO Max en julio\n",
      "Estos famosos enfrentan enfermedades y trastornos que alteran su cotidianidad\n"
     ]
    }
   ],
   "source": [
    "# Hacer una consulta de todas las etiquetas <h3> en el documento HTML y mostrarlas por pantalla.\n",
    "Consulta1 = datos.find_all(\"h3\", class_=\"article-highlighted__title\")\n",
    "for valor in Consulta1:\n",
    "    print(valor.get_text())"
   ]
  },
  {
   "cell_type": "code",
   "execution_count": 17,
   "metadata": {},
   "outputs": [
    {
     "name": "stdout",
     "output_type": "stream",
     "text": [
      "Uno de los servicios más utilizados para almacenar es Google Drive, pero  dejará de funcionar en ciertas versiones de Windows. \n",
      "La exasambleísta Cristina Reyes denunció en redes sociales que le robaron cosas de su casa, entre ellas, su computadora \n",
      "La joven estadounidense, Mya Richardson, continúa ganando adeptos en la red social OnlyFans.\n",
      "En una entrevista, Shakira como se enteró que era traicionada por el exfutbolista del Barcelona FC.\n",
      "El rumor surge tras la afirmación de BELINDA de estar interesada en una colaboración musical con el también mexicano Peso Pluma. \n",
      "El bartender del restuarante Tributo, Marco Antonio Trujillo, participa en un certamen internacional en Francia. \n",
      "Estos son los estrenos de series y películas que Netflix, Disney y HBO Max tienen preparados para este mes de julio de 2023. \n",
      "Influencers, músicos y  actores lidian con enfermedades y trastornos que complican su día a día. Lewis Capaldi suspendió su gira. \n"
     ]
    }
   ],
   "source": [
    "# Hacer una consulta de todas las etiquetas <p> en el documento HTML y mostrarlas por pantalla.\n",
    "Consulta2 = datos.find_all(\"p\", class_=\"article-highlighted__description\")\n",
    "for valor in Consulta2:\n",
    "    print(valor.get_text())"
   ]
  },
  {
   "cell_type": "code",
   "execution_count": 18,
   "metadata": {},
   "outputs": [
    {
     "name": "stdout",
     "output_type": "stream",
     "text": [
      "Conozca a las 22 aspirantes al Miss Ecuador 2020\n"
     ]
    }
   ],
   "source": [
    "# Hacer una consulta de una de las etiquetas <a> en el documento HTML y mostrarlas por pantalla.\n",
    "Consulta3 = datos.find(\"a\", class_=\"widget-feed__list-title\")\n",
    "for valor in Consulta3:\n",
    "    print(valor.get_text())"
   ]
  },
  {
   "cell_type": "code",
   "execution_count": 22,
   "metadata": {},
   "outputs": [
    {
     "name": "stdout",
     "output_type": "stream",
     "text": [
      "Actualidad | Última hora\n",
      "\n",
      "Tendencias | Súper Pandilla | Educacción | Afull\n",
      "\n",
      "Deportes | Conexión Mundial 593\n",
      "\n",
      "Opinión | Editorial | Caricaturas | Columnistas | Cartas al Director\n",
      "\n",
      "Video\n",
      "\n",
      "Podcasts\n",
      "\n",
      "Blogs\n",
      "\n",
      "Servicios | Tarifario | Suscripción | Edición Impresa | RSS | Apps móviles | Ediciones Anteriores | Síntesis noticiosa | Facturación | Puntos de Servicio\n",
      "\n"
     ]
    }
   ],
   "source": [
    "# Hacer una consulta de una de las etiquetas <ul> en el documento HTML y mostrarlas por pantalla.\n",
    "Consulta4 = datos.find(\"ul\", class_=\"footer-columns__container list-unstyled\", id=\"menu-menu-footer\")\n",
    "for valor in Consulta4:\n",
    "    print(valor.get_text(strip=True, separator=\" | \"))"
   ]
  },
  {
   "cell_type": "code",
   "execution_count": 3,
   "metadata": {},
   "outputs": [],
   "source": [
    "url = \"https://www.elcomercio.com/tendencias/redes-sociales/historia-joven-fotos-onlyfans-tratamiento-cancer.html\" # URL de la pagina seleccionada\n",
    "respuesta = requests.get(url)\n",
    "# Comprobar si la consulta fue exitosa (codigo 200) o fracaso (codigo 404 o cualquier otro)\n",
    "if respuesta.status_code == 200:\n",
    "    contenido = respuesta.content\n",
    "    datos2 = BeautifulSoup(contenido, \"html.parser\")\n",
    "else:\n",
    "    print(\"URL invalida\")"
   ]
  },
  {
   "cell_type": "code",
   "execution_count": 6,
   "metadata": {},
   "outputs": [
    {
     "name": "stdout",
     "output_type": "stream",
     "text": [
      "La historia de la joven que vende sus fotos en OnlyFans para pagar tratamiento del cáncer\n"
     ]
    }
   ],
   "source": [
    "# Hacer una consulta de una de las etiquetas <h1> en el documento HTML y mostrarlas por pantalla.\n",
    "Consulta5 = datos2.find(\"h1\", class_=\"entry__title\")\n",
    "for valor in Consulta5:\n",
    "    print(valor.get_text())"
   ]
  },
  {
   "cell_type": "code",
   "execution_count": 10,
   "metadata": {},
   "outputs": [
    {
     "name": "stdout",
     "output_type": "stream",
     "text": [
      "La\n",
      "joven estadounidense\n",
      ", Mya Richardson, continúa ganando adeptos en la red social\n",
      "OnlyFans,\n",
      "luego de que decidiera vender sus fotos para pagar su tratamiento de cáncer.\n",
      "Su historia comenzó cuando se enteró de que padecía un\n",
      "raro cáncer\n",
      "en septiembre de 2022. En ese entonces con\n",
      "21 años\n",
      "y residente en el estado de Michigan y notó un bulto de 12 centímetros en la zona lumbar.\n",
      "La joven acudió al especialista y le diagnosticando\n",
      "sarcoma de células fusiformes\n",
      ", un tumor que puede desarrollarse en el hueso o en los tejidos blandos.\n",
      "Gana 80 000 dólares en Onlyfans\n",
      "Con la intención de pagar las sesiones de quimioterapia y radioterapia que le correspondían, decidió recurrir a v\n",
      "ender sus desnudos en OnlyFans.\n",
      "Aunque\n",
      "ya tenía presencia\n",
      "en esta red social antes de ser diagnosticada, mantuvo la noticia en secreto y usaba pelucas.\n",
      "Hasta que se dio cuenta que a sus seguidores les gustaba verla sin pelo. En apenas unos meses, Mya consiguió\n",
      "80 000 dólares\n",
      ", con los que se ha costeado cuatro sesiones de quimioterapia y 25 sesiones de radioterapia.\n",
      "Más noticias en:\n",
      "Conductora que manejó Metro de Quito abre cuenta en OnlyFans\n",
      "Boxeadora pasa de UFC a Onlyfans; La historia de la 'Mujer Maravilla'\n",
      "Así se puede acceder gratis a OnlyFans\n",
      "Visita nuestros portales:\n",
      "Las noticias de Quito en\n",
      "www.ultimasnoticias.ec\n",
      "Lo mejor del fútbol solo\n",
      "www.benditofutbol.com\n",
      "Negocios y emprendimientos\n",
      "www.revistalideres.ec\n",
      "Más sobre el hogar en\n",
      "www.revistafamilia.ec\n",
      "Sigue a EL COMERCIO en Google News\n",
      "CLIC AQUÍ\n"
     ]
    }
   ],
   "source": [
    "# Hacer una consulta de una de las etiquetas <div> en el documento HTML y mostrarlas por pantalla.\n",
    "Consulta6 = datos2.find_all(\"div\", class_=\"entry__content\")\n",
    "for valor in Consulta6:\n",
    "    print(valor.get_text(strip=True, separator=\"\\n\"))"
   ]
  },
  {
   "cell_type": "code",
   "execution_count": 11,
   "metadata": {},
   "outputs": [
    {
     "name": "stdout",
     "output_type": "stream",
     "text": [
      "© Derechos reservados 2022 Grupo EL COMERCIO. Queda prohibida la reproducción total o\n",
      "parcial, por\n",
      "cualquier medio, de todos los contenidos sin autorización expresa de Grupo EL COMERCIO.\n"
     ]
    }
   ],
   "source": [
    "# Hacer una consulta de una de las etiquetas <div> en el documento HTML y mostrarlas por pantalla.\n",
    "Consulta7 = datos2.find(\"div\", class_=\"footer-brand__copyright\")\n",
    "for valor in Consulta7:\n",
    "    print(valor.get_text(strip=True, separator=\"\\n\"))"
   ]
  },
  {
   "cell_type": "code",
   "execution_count": 12,
   "metadata": {},
   "outputs": [
    {
     "name": "stdout",
     "output_type": "stream",
     "text": [
      "Tendencias\n",
      "Redes sociales\n"
     ]
    }
   ],
   "source": [
    "# Hacer una consulta de una de las etiquetas <ol> en el documento HTML y mostrarlas por pantalla.\n",
    "Consulta8 = datos2.find(\"ol\", class_=\"breadcrumb\")\n",
    "for valor in Consulta8:\n",
    "    print(valor.get_text(strip=True, separator=\"\\n\"))"
   ]
  }
 ],
 "metadata": {
  "kernelspec": {
   "display_name": "Python 3",
   "language": "python",
   "name": "python3"
  },
  "language_info": {
   "codemirror_mode": {
    "name": "ipython",
    "version": 3
   },
   "file_extension": ".py",
   "mimetype": "text/x-python",
   "name": "python",
   "nbconvert_exporter": "python",
   "pygments_lexer": "ipython3",
   "version": "3.12.1"
  }
 },
 "nbformat": 4,
 "nbformat_minor": 2
}
