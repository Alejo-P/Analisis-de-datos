{
 "cells": [
  {
   "cell_type": "code",
   "execution_count": 28,
   "metadata": {},
   "outputs": [],
   "source": [
    "# Importar las bibliotecas necesarias para el Web Scraping\n",
    "from bs4 import BeautifulSoup\n",
    "from mysql.connector import MySQLConnection, Error\n",
    "import requests"
   ]
  },
  {
   "cell_type": "code",
   "execution_count": 29,
   "metadata": {},
   "outputs": [],
   "source": [
    "url = \"https://www.elcomercio.com/tendencias/\" # URL de la pagina seleccionada\n",
    "respuesta = requests.get(url)\n",
    "# Comprobar si la consulta fue exitosa (codigo 200) o fracaso (codigo 404 o cualquier otro)\n",
    "if respuesta.status_code == 200:\n",
    "    contenido = respuesta.content\n",
    "    datos = BeautifulSoup(contenido, \"html.parser\")\n",
    "else:\n",
    "    print(\"URL invalida\")\n"
   ]
  },
  {
   "cell_type": "code",
   "execution_count": 30,
   "metadata": {},
   "outputs": [
    {
     "name": "stdout",
     "output_type": "stream",
     "text": [
      "Google Drive dejará de funcionar en algunas versiones de Windows desde agosto\n",
      "Elon Musk y  Jack Dorsey señalan que Threads recolecta datos muy sensibles\n",
      "El declive de Skype: de ser la plataforma favorita de videollamadas a verse eclipsada por Teams y Zoom\n",
      "Computadora de Cristina Reyes fue robada; pide que le devuelvan sus poemas\n",
      "Restricciones de Twitter son para proteger los datos de la IA\n",
      "La historia de la joven que vende sus fotos en OnlyFans para pagar tratamiento del cáncer\n",
      "¿Qué son los cálculos renales?\n",
      "Gerard Piqué y Shakira tenían una relación abierta, según la prensa española\n",
      "¿PESO PLUMA flechó a BELINDA?\n",
      "Despiden enfermera al no reportar la muerte de un paciente con el que tenía sexo\n",
      "Bartender representa a Ecuador en concurso en Francia\n",
      "Blackpink\n",
      "Los estrenos de Netflix, Disney+ y HBO Max en julio\n",
      "Estos famosos enfrentan enfermedades y trastornos que alteran su cotidianidad\n"
     ]
    }
   ],
   "source": [
    "# Hacer una consulta de todas las etiquetas <h3> en el documento HTML y mostrarlas por pantalla.\n",
    "Consulta1 = datos.find_all(\"h3\", class_=\"article-highlighted__title\")\n",
    "for valor in Consulta1:\n",
    "    print(valor.get_text())"
   ]
  },
  {
   "cell_type": "code",
   "execution_count": 31,
   "metadata": {},
   "outputs": [
    {
     "name": "stdout",
     "output_type": "stream",
     "text": [
      "Uno de los servicios más utilizados para almacenar es Google Drive, pero  dejará de funcionar en ciertas versiones de Windows. \n",
      "La exasambleísta Cristina Reyes denunció en redes sociales que le robaron cosas de su casa, entre ellas, su computadora \n",
      "La joven estadounidense, Mya Richardson, continúa ganando adeptos en la red social OnlyFans.\n",
      "En una entrevista, Shakira como se enteró que era traicionada por el exfutbolista del Barcelona FC.\n",
      "El rumor surge tras la afirmación de BELINDA de estar interesada en una colaboración musical con el también mexicano Peso Pluma. \n",
      "El bartender del restuarante Tributo, Marco Antonio Trujillo, participa en un certamen internacional en Francia. \n",
      "Estos son los estrenos de series y películas que Netflix, Disney y HBO Max tienen preparados para este mes de julio de 2023. \n",
      "Influencers, músicos y  actores lidian con enfermedades y trastornos que complican su día a día. Lewis Capaldi suspendió su gira. \n"
     ]
    }
   ],
   "source": [
    "# Hacer una consulta de todas las etiquetas <p> en el documento HTML y mostrarlas por pantalla.\n",
    "Consulta2 = datos.find_all(\"p\", class_=\"article-highlighted__description\")\n",
    "for valor in Consulta2:\n",
    "    print(valor.get_text())"
   ]
  },
  {
   "cell_type": "code",
   "execution_count": 32,
   "metadata": {},
   "outputs": [
    {
     "name": "stdout",
     "output_type": "stream",
     "text": [
      "Conozca a las 22 aspirantes al Miss Ecuador 2020\n"
     ]
    }
   ],
   "source": [
    "# Hacer una consulta de una de las etiquetas <a> en el documento HTML y mostrarlas por pantalla.\n",
    "Consulta3 = datos.find(\"a\", class_=\"widget-feed__list-title\")\n",
    "for valor in Consulta3:\n",
    "    print(valor.get_text())"
   ]
  },
  {
   "cell_type": "code",
   "execution_count": 33,
   "metadata": {},
   "outputs": [
    {
     "name": "stdout",
     "output_type": "stream",
     "text": [
      "Actualidad | Última hora\n",
      "\n",
      "Tendencias | Súper Pandilla | Educacción | Afull\n",
      "\n",
      "Deportes | Conexión Mundial 593\n",
      "\n",
      "Opinión | Editorial | Caricaturas | Columnistas | Cartas al Director\n",
      "\n",
      "Video\n",
      "\n",
      "Podcasts\n",
      "\n",
      "Blogs\n",
      "\n",
      "Servicios | Tarifario | Suscripción | Edición Impresa | RSS | Apps móviles | Ediciones Anteriores | Síntesis noticiosa | Facturación | Puntos de Servicio\n",
      "\n"
     ]
    }
   ],
   "source": [
    "# Hacer una consulta de una de las etiquetas <ul> en el documento HTML y mostrarlas por pantalla.\n",
    "Consulta4 = datos.find(\"ul\", class_=\"footer-columns__container list-unstyled\", id=\"menu-menu-footer\")\n",
    "for valor in Consulta4:\n",
    "    print(valor.get_text(strip=True, separator=\" | \"))"
   ]
  },
  {
   "cell_type": "code",
   "execution_count": 34,
   "metadata": {},
   "outputs": [],
   "source": [
    "url = \"https://www.elcomercio.com/tendencias/redes-sociales/historia-joven-fotos-onlyfans-tratamiento-cancer.html\" # URL de la pagina seleccionada\n",
    "respuesta = requests.get(url)\n",
    "# Comprobar si la consulta fue exitosa (codigo 200) o fracaso (codigo 404 o cualquier otro)\n",
    "if respuesta.status_code == 200:\n",
    "    contenido = respuesta.content\n",
    "    datos2 = BeautifulSoup(contenido, \"html.parser\")\n",
    "else:\n",
    "    print(\"URL invalida\")"
   ]
  },
  {
   "cell_type": "code",
   "execution_count": 35,
   "metadata": {},
   "outputs": [
    {
     "name": "stdout",
     "output_type": "stream",
     "text": [
      "La historia de la joven que vende sus fotos en OnlyFans para pagar tratamiento del cáncer\n"
     ]
    }
   ],
   "source": [
    "# Hacer una consulta de una de las etiquetas <h1> en el documento HTML y mostrarlas por pantalla.\n",
    "Consulta5 = datos2.find(\"h1\", class_=\"entry__title\")\n",
    "for valor in Consulta5:\n",
    "    print(valor.get_text())"
   ]
  },
  {
   "cell_type": "code",
   "execution_count": 36,
   "metadata": {},
   "outputs": [
    {
     "name": "stdout",
     "output_type": "stream",
     "text": [
      "La\n",
      "joven estadounidense\n",
      ", Mya Richardson, continúa ganando adeptos en la red social\n",
      "OnlyFans,\n",
      "luego de que decidiera vender sus fotos para pagar su tratamiento de cáncer.\n",
      "Su historia comenzó cuando se enteró de que padecía un\n",
      "raro cáncer\n",
      "en septiembre de 2022. En ese entonces con\n",
      "21 años\n",
      "y residente en el estado de Michigan y notó un bulto de 12 centímetros en la zona lumbar.\n",
      "La joven acudió al especialista y le diagnosticando\n",
      "sarcoma de células fusiformes\n",
      ", un tumor que puede desarrollarse en el hueso o en los tejidos blandos.\n",
      "Gana 80 000 dólares en Onlyfans\n",
      "Con la intención de pagar las sesiones de quimioterapia y radioterapia que le correspondían, decidió recurrir a v\n",
      "ender sus desnudos en OnlyFans.\n",
      "Aunque\n",
      "ya tenía presencia\n",
      "en esta red social antes de ser diagnosticada, mantuvo la noticia en secreto y usaba pelucas.\n",
      "Hasta que se dio cuenta que a sus seguidores les gustaba verla sin pelo. En apenas unos meses, Mya consiguió\n",
      "80 000 dólares\n",
      ", con los que se ha costeado cuatro sesiones de quimioterapia y 25 sesiones de radioterapia.\n",
      "Más noticias en:\n",
      "Conductora que manejó Metro de Quito abre cuenta en OnlyFans\n",
      "Boxeadora pasa de UFC a Onlyfans; La historia de la 'Mujer Maravilla'\n",
      "Así se puede acceder gratis a OnlyFans\n",
      "Visita nuestros portales:\n",
      "Las noticias de Quito en\n",
      "www.ultimasnoticias.ec\n",
      "Lo mejor del fútbol solo\n",
      "www.benditofutbol.com\n",
      "Negocios y emprendimientos\n",
      "www.revistalideres.ec\n",
      "Más sobre el hogar en\n",
      "www.revistafamilia.ec\n",
      "Sigue a EL COMERCIO en Google News\n",
      "CLIC AQUÍ\n"
     ]
    }
   ],
   "source": [
    "# Hacer una consulta de una de las etiquetas <div> en el documento HTML y mostrarlas por pantalla.\n",
    "Consulta6 = datos2.find_all(\"div\", class_=\"entry__content\")\n",
    "for valor in Consulta6:\n",
    "    print(valor.get_text(strip=True, separator=\"\\n\"))"
   ]
  },
  {
   "cell_type": "code",
   "execution_count": 37,
   "metadata": {},
   "outputs": [
    {
     "name": "stdout",
     "output_type": "stream",
     "text": [
      "\n",
      "© Derechos reservados 2022 Grupo EL COMERCIO. Queda prohibida la reproducción total o\n",
      "                                parcial, por\n",
      "                                cualquier medio, de todos los contenidos sin autorización expresa de Grupo EL COMERCIO.\n",
      "\n"
     ]
    }
   ],
   "source": [
    "# Hacer una consulta de una de las etiquetas <div> en el documento HTML y mostrarlas por pantalla.\n",
    "Consulta7 = datos2.find(\"div\", class_=\"footer-brand__copyright\")\n",
    "for valor in Consulta7:\n",
    "    print(valor.get_text(strip=True, separator=\"\\n\"))"
   ]
  },
  {
   "cell_type": "code",
   "execution_count": 38,
   "metadata": {},
   "outputs": [
    {
     "name": "stdout",
     "output_type": "stream",
     "text": [
      "\n",
      "Tendencias\n",
      "\n",
      "Redes sociales\n",
      "\n"
     ]
    }
   ],
   "source": [
    "# Hacer una consulta de una de las etiquetas <ol> en el documento HTML y mostrarlas por pantalla.\n",
    "Consulta8 = datos2.find(\"ol\", class_=\"breadcrumb\")\n",
    "for valor in Consulta8:\n",
    "    print(valor.get_text(strip=True, separator=\"\\n\"))"
   ]
  },
  {
   "cell_type": "code",
   "execution_count": 42,
   "metadata": {},
   "outputs": [
    {
     "name": "stdout",
     "output_type": "stream",
     "text": [
      "<h3 class=\"article-highlighted__title\"><a href=\"https://www.elcomercio.com/tendencias/tecnologia/google-drive-dejara-funcionar-versiones-windows.html\">Google Drive dejará de funcionar en algunas versiones de Windows desde agosto</a></h3>\n",
      "<h3 class=\"article-highlighted__title\"><a href=\"https://www.elcomercio.com/afull/elon-musk-jack-dorsey-threads.html\">Elon Musk y  Jack Dorsey señalan que Threads recolecta datos muy sensibles</a></h3>\n",
      "<h3 class=\"article-highlighted__title\"><a href=\"https://www.elcomercio.com/tendencias/tecnologia/declive-skype-plataforma-favorita-videollamadas-eclipsada-teams-zoom.html\">El declive de Skype: de ser la plataforma favorita de videollamadas a verse eclipsada por Teams y Zoom</a></h3>\n",
      "<h3 class=\"article-highlighted__title\"><a href=\"https://www.elcomercio.com/tendencias/sociedad/cristina-reyes-computadora-poemas-robo-casa.html\">Computadora de Cristina Reyes fue robada; pide que le devuelvan sus poemas</a></h3>\n",
      "<h3 class=\"article-highlighted__title\"><a href=\"https://www.elcomercio.com/tendencias/redes-sociales/restricciones-twitter-proteger-datos-inteligencia-artificial.html\">Restricciones de Twitter son para proteger los datos de la IA</a></h3>\n",
      "<h3 class=\"article-highlighted__title\"><a href=\"https://www.elcomercio.com/tendencias/redes-sociales/historia-joven-fotos-onlyfans-tratamiento-cancer.html\">La historia de la joven que vende sus fotos en OnlyFans para pagar tratamiento del cáncer</a></h3>\n",
      "<h3 class=\"article-highlighted__title\"><a href=\"https://www.elcomercio.com/tendencias/salud/calculos-renales-cuidados-tratamiento-enfermedad.html\">¿Qué son los cálculos renales?</a></h3>\n",
      "<h3 class=\"article-highlighted__title\"><a href=\"https://www.elcomercio.com/tendencias/entretenimiento/gerard-pique-shakira-relacion-abierta.html\">Gerard Piqué y Shakira tenían una relación abierta, según la prensa española</a></h3>\n",
      "<h3 class=\"article-highlighted__title\"><a href=\"https://www.elcomercio.com/afull/belinda-peso-pluma-amorio-netflix.html\">¿PESO PLUMA flechó a BELINDA?</a></h3>\n",
      "<h3 class=\"article-highlighted__title\"><a href=\"https://www.elcomercio.com/tendencias/curiosidades/despiden-enfermera-reportas-muerte-paciente-sexo.html\">Despiden enfermera al no reportar la muerte de un paciente con el que tenía sexo</a></h3>\n",
      "<h3 class=\"article-highlighted__title\"><a href=\"https://www.elcomercio.com/tendencias/gastronomia/bartender-concurso-margarita-marco-trujillo.html\">Bartender representa a Ecuador en concurso en Francia</a></h3>\n",
      "<h3 class=\"article-highlighted__title\"><a href=\"https://www.elcomercio.com/tendencias/entretenimiento/blackpink-k-pop-record-historia-youtube.html\">Blackpink</a></h3>\n",
      "<h3 class=\"article-highlighted__title\"><a href=\"https://www.elcomercio.com/tendencias/entretenimiento/estrenos-netflix-disney-hbo-max.html\">Los estrenos de Netflix, Disney+ y HBO Max en julio</a></h3>\n",
      "<h3 class=\"article-highlighted__title\"><a href=\"https://www.elcomercio.com/afull/lele-pons-bruce-willis-famosos-enfermedades-y-trastornos.html\">Estos famosos enfrentan enfermedades y trastornos que alteran su cotidianidad</a></h3>\n",
      "<p class=\"article-highlighted__description\">Uno de los servicios más utilizados para almacenar es Google Drive, pero  dejará de funcionar en ciertas versiones de Windows. </p>\n",
      "<p class=\"article-highlighted__description\">La exasambleísta Cristina Reyes denunció en redes sociales que le robaron cosas de su casa, entre ellas, su computadora </p>\n",
      "<p class=\"article-highlighted__description\">La joven estadounidense, Mya Richardson, continúa ganando adeptos en la red social OnlyFans.</p>\n",
      "<p class=\"article-highlighted__description\">En una entrevista, Shakira como se enteró que era traicionada por el exfutbolista del Barcelona FC.</p>\n",
      "<p class=\"article-highlighted__description\">El rumor surge tras la afirmación de BELINDA de estar interesada en una colaboración musical con el también mexicano Peso Pluma. </p>\n",
      "<p class=\"article-highlighted__description\">El bartender del restuarante Tributo, Marco Antonio Trujillo, participa en un certamen internacional en Francia. </p>\n",
      "<p class=\"article-highlighted__description\">Estos son los estrenos de series y películas que Netflix, Disney y HBO Max tienen preparados para este mes de julio de 2023. </p>\n",
      "<p class=\"article-highlighted__description\">Influencers, músicos y  actores lidian con enfermedades y trastornos que complican su día a día. Lewis Capaldi suspendió su gira. </p>\n",
      "Conozca a las 22 aspirantes al Miss Ecuador 2020\n",
      "<li><a href=\"https://www.elcomercio.com/actualidad/\">Actualidad</a>\n",
      "<ul class=\"sub-menu\">\n",
      "<li><a href=\"https://www.elcomercio.com/ultima-hora/\">Última hora</a></li>\n",
      "</ul>\n",
      "</li>\n",
      "\n",
      "\n",
      "<li class=\"current-menu-item\"><a aria-current=\"page\" href=\"https://www.elcomercio.com/tendencias/\">Tendencias</a>\n",
      "<ul class=\"sub-menu\">\n",
      "<li><a href=\"https://www.elcomercio.com/super-pandilla/\">Súper Pandilla</a></li>\n",
      "<li><a href=\"http://www.educaccion.ec\">Educacción</a></li>\n",
      "<li><a href=\"https://www.elcomercio.com/categoria/afull/\">Afull</a></li>\n",
      "</ul>\n",
      "</li>\n",
      "\n",
      "\n",
      "<li><a href=\"https://www.elcomercio.com/deportes/\">Deportes</a>\n",
      "<ul class=\"sub-menu\">\n",
      "<li><a href=\"https://www.elcomercio.com/mundial-qatar-2022/\">Conexión Mundial 593</a></li>\n",
      "</ul>\n",
      "</li>\n",
      "\n",
      "\n",
      "<li><a href=\"https://www.elcomercio.com/opinion/\">Opinión</a>\n",
      "<ul class=\"sub-menu\">\n",
      "<li><a href=\"https://www.elcomercio.com/categoria/opinion/editorial/\">Editorial</a></li>\n",
      "<li><a href=\"https://www.elcomercio.com/categoria/opinion/caricaturas/\">Caricaturas</a></li>\n",
      "<li><a href=\"/tag/columnistas\">Columnistas</a></li>\n",
      "<li><a href=\"https://www.elcomercio.com/categoria/cartas/\">Cartas al Director</a></li>\n",
      "</ul>\n",
      "</li>\n",
      "\n",
      "\n",
      "<li><a href=\"https://www.elcomercio.com/categoria/video/\">Video</a></li>\n",
      "\n",
      "\n",
      "<li><a href=\"https://www.elcomercio.com/podcasts/\">Podcasts</a></li>\n",
      "\n",
      "\n",
      "<li><a href=\"https://www.elcomercio.com/blogs/\">Blogs</a></li>\n",
      "\n",
      "\n",
      "<li><a href=\"#footer-servicios\">Servicios</a>\n",
      "<ul class=\"sub-menu\">\n",
      "<li><a href=\"https://www.gec.com.ec/\">Tarifario</a></li>\n",
      "<li><a href=\"https://www.elcomercio.com/pages/suscripcion.html\">Suscripción</a></li>\n",
      "<li><a href=\"https://www.elcomercio.com/edicion-impresa/\">Edición Impresa</a></li>\n",
      "<li><a href=\"https://www.elcomercio.com/rss-2/\">RSS</a></li>\n",
      "<li><a href=\"https://www.elcomercio.com/pages/aplicaciones-moviles.html\">Apps móviles</a></li>\n",
      "<li><a href=\"https://www.elcomercio.com/ediciones-anteriores/\">Ediciones Anteriores</a></li>\n",
      "<li><a href=\"https://www.elcomercio.com/sintesis-noticiosa/\">Síntesis noticiosa</a></li>\n",
      "<li><a href=\"http://facturacion.grupoelcomercio.com\">Facturación</a></li>\n",
      "<li><a href=\"https://www.elcomercio.com/pages/puntos-de-servicio.html\">Puntos de Servicio</a></li>\n",
      "</ul>\n",
      "</li>\n",
      "\n",
      "\n",
      "La historia de la joven que vende sus fotos en OnlyFans para pagar tratamiento del cáncer\n",
      "<div class=\"entry__content pw-ctt\">\n",
      "<p>La <strong>joven estadounidense</strong>, Mya Richardson, continúa ganando adeptos en la red social <strong>OnlyFans,</strong> luego de que decidiera vender sus fotos para pagar su tratamiento de cáncer.</p>\n",
      "<p>Su historia comenzó cuando se enteró de que padecía un<strong> raro cáncer</strong> en septiembre de 2022. En ese entonces con <strong>21 años</strong> y residente en el estado de Michigan y notó un bulto de 12 centímetros en la zona lumbar.</p>\n",
      "<p>La joven acudió al especialista y le diagnosticando <strong>sarcoma de células fusiformes</strong>, un tumor que puede desarrollarse en el hueso o en los tejidos blandos. </p>\n",
      "<h2 id=\"h-gana-80-000-dolares-en-onlyfans\">Gana 80 000 dólares en Onlyfans</h2>\n",
      "<p>Con la intención de pagar las sesiones de quimioterapia y radioterapia que le correspondían, decidió recurrir a v<strong>ender sus desnudos en OnlyFans.</strong></p>\n",
      "<p>Aunque <strong>ya tenía presencia </strong>en esta red social antes de ser diagnosticada, mantuvo la noticia en secreto y usaba pelucas.</p>\n",
      "<p>Hasta que se dio cuenta que a sus seguidores les gustaba verla sin pelo. En apenas unos meses, Mya consiguió <strong>80 000 dólares</strong>, con los que se ha costeado cuatro sesiones de quimioterapia y 25 sesiones de radioterapia. </p>\n",
      "<p></p>\n",
      "<h5 id=\"h-mas-noticias-en\">Más noticias en: </h5>\n",
      "<ul><li><a data-id=\"1299704\" data-type=\"post\" href=\"https://www.elcomercio.com/tendencias/sociedad/conductora-manejo-metro-quito-onlyfans.html\" rel=\"noreferrer noopener\" target=\"_blank\" title=\"Conductora que manejó Metro de Quito abre cuenta en OnlyFans\">Conductora que manejó Metro de Quito abre cuenta en OnlyFans</a></li><li><a data-id=\"1298043\" data-type=\"post\" href=\"https://www.elcomercio.com/tendencias/sociedad/boxeadora-pasa-ufc-onlyfans-historia-mujer-maravilla.html\" rel=\"noreferrer noopener\" target=\"_blank\" title=\"Boxeadora pasa de UFC a Onlyfans; La historia de la 'Mujer Maravilla'\">Boxeadora pasa de UFC a Onlyfans; La historia de la 'Mujer Maravilla'</a></li><li><a data-id=\"1297707\" data-type=\"post\" href=\"https://www.elcomercio.com/tendencias/redes-sociales/asi-aceder-gratis-onlyfans.html\" rel=\"noreferrer noopener\" target=\"_blank\" title=\"Así se puede acceder gratis a OnlyFans\">Así se puede acceder gratis a OnlyFans</a></li></ul>\n",
      "<!-- NOTICIA -->\n",
      "<hr/>\n",
      "<h5>Visita nuestros portales:</h5>\n",
      "<ul><li>Las noticias de Quito en <a href=\"https://www.ultimasnoticias.ec/?utm_medium=noticia&amp;utm_campaign=LinkUnNoticia\" rel=\"noreferrer noopener\" target=\"_blank\">www.ultimasnoticias.ec</a></li><li>Lo mejor del fútbol solo <a href=\"https://www.benditofutbol.com/?utm_medium=noticia&amp;utm_campaign=LinkBfNoticia\" rel=\"noreferrer noopener\" target=\"_blank\">www.benditofutbol.com</a></li><li>Negocios y emprendimientos <a href=\"https://www.revistalideres.ec/?utm_medium=noticia&amp;utm_campaign=LinkLidNoticia\" rel=\"noreferrer noopener\" target=\"_blank\">www.revistalideres.ec</a></li><li>Más sobre el hogar en <a href=\"http://www.revistafamilia.ec/?utm_medium=noticia&amp;utm_campaign=LinkFamNoticia\" rel=\"noreferrer noopener\" target=\"_blank\">www.revistafamilia.ec</a></li></ul>\n",
      "<hr/>\n",
      "<header class=\"widget-feed__header\" style=\"text-align: center;\">\n",
      "<h3 class=\"widget-feed__title\" style=\"text-transform: none; font-size: 1rem;\"><a href=\"https://news.google.com/publications/CAAiEDZpxOBO3UzHKviUiFcZT_AqFAgKIhA2acTgTt1Mxyr4lIhXGU_w?utm_medium=noticia&amp;utm_campaign=EcGoogleNewsNoticia\" rel=\"noopener\" target=\"blank\" title=\"EL COMERCIO en Google News\">Sigue a EL COMERCIO en Google News <span class=\"text-primary\">CLIC AQUÍ</span><img alt=\"Google News\" src=\"https://especiales.elcomercio.com/icono-google-news.svg\" style=\"height: 20px; padding-left: 5px;\"/></a></h3>\n",
      "</header>\n",
      "<hr/>\n",
      "<script>\n",
      "    let $oneByOneArticle = document.createElement('ned-ad');\n",
      "    $oneByOneArticle.setAttribute('ad-class', 'adjacent-embed');\n",
      "    $oneByOneArticle.setAttribute('ad-name', 'ad-slot-1x1-embed-article');\n",
      "    $oneByOneArticle.setAttributeNode(document.createAttribute('ad-jacent'));\n",
      "\n",
      "    document.addEventListener('DOMContentLoaded', function () {\n",
      "\n",
      "        document.querySelector('div.entry__content').insertBefore($oneByOneArticle, document.querySelector('div.entry__content p:nth-of-type(2)'));\n",
      "\n",
      "    });\n",
      "\n",
      "</script>\n",
      "<style>\n",
      "    [ad-class=\"adjacent-embed\"] {\n",
      "        margin: 20px auto;\n",
      "    }\n",
      "</style>\n",
      "</div>\n",
      "\n",
      "\n",
      "<p>© Derechos reservados 2022 Grupo EL COMERCIO. Queda prohibida la reproducción total o\n",
      "                                parcial, por\n",
      "                                cualquier medio, de todos los contenidos sin autorización expresa de Grupo EL COMERCIO.</p>\n",
      "\n",
      "\n",
      "\n",
      "\n",
      "<li class=\"breadcrumb-item\">\n",
      "<a class=\"text-dark\" href=\"https://www.elcomercio.com/tendencias/\">Tendencias</a>\n",
      "</li>\n",
      "\n",
      "\n",
      "<li aria-current=\"page\" class=\"breadcrumb-item active text-uppercase\">\n",
      "<a href=\"https://www.elcomercio.com/categoria/tendencias/redes-sociales/\"><b>Redes sociales</b></a>\n",
      "</li>\n",
      "\n",
      "\n"
     ]
    }
   ],
   "source": [
    "import os\n",
    "#with open(r\"C:\\Users\\pinzo\\OneDrive\\Documentos\\GitHub\\Analisis-de-datos\\Tarea3/Extraccion.txt\", \"w\") as archivo:\n",
    "for Elementos in [Consulta1, Consulta2, Consulta3, Consulta4, Consulta5, Consulta6, Consulta7, Consulta8]:\n",
    "    for value in Elementos:\n",
    "        print(value)"
   ]
  },
  {
   "cell_type": "code",
   "execution_count": 39,
   "metadata": {},
   "outputs": [
    {
     "ename": "AttributeError",
     "evalue": "ResultSet object has no attribute 'get_text'. You're probably treating a list of elements like a single element. Did you call find_all() when you meant to call find()?",
     "output_type": "error",
     "traceback": [
      "\u001b[1;31m---------------------------------------------------------------------------\u001b[0m",
      "\u001b[1;31mAttributeError\u001b[0m                            Traceback (most recent call last)",
      "Cell \u001b[1;32mIn[39], line 3\u001b[0m\n\u001b[0;32m      1\u001b[0m \u001b[38;5;66;03m# Agrupar las consultas en un diccionario\u001b[39;00m\n\u001b[0;32m      2\u001b[0m Consultas\u001b[38;5;241m=\u001b[39m(\n\u001b[1;32m----> 3\u001b[0m     (\u001b[38;5;124m\"\u001b[39m\u001b[38;5;124mConsulta 1\u001b[39m\u001b[38;5;124m\"\u001b[39m,\u001b[43mConsulta1\u001b[49m\u001b[38;5;241;43m.\u001b[39;49m\u001b[43mget_text\u001b[49m()),\n\u001b[0;32m      4\u001b[0m     (\u001b[38;5;124m\"\u001b[39m\u001b[38;5;124mConsulta 2\u001b[39m\u001b[38;5;124m\"\u001b[39m,Consulta2\u001b[38;5;241m.\u001b[39mget_text()),\n\u001b[0;32m      5\u001b[0m     (\u001b[38;5;124m\"\u001b[39m\u001b[38;5;124mConsulta 3\u001b[39m\u001b[38;5;124m\"\u001b[39m,Consulta3\u001b[38;5;241m.\u001b[39mget_Text()),\n\u001b[0;32m      6\u001b[0m     (\u001b[38;5;124m\"\u001b[39m\u001b[38;5;124mConsulta 4\u001b[39m\u001b[38;5;124m\"\u001b[39m,Consulta4\u001b[38;5;241m.\u001b[39mget_text()),\n\u001b[0;32m      7\u001b[0m     (\u001b[38;5;124m\"\u001b[39m\u001b[38;5;124mConsulta 5\u001b[39m\u001b[38;5;124m\"\u001b[39m,Consulta5\u001b[38;5;241m.\u001b[39mget_text()),\n\u001b[0;32m      8\u001b[0m     (\u001b[38;5;124m\"\u001b[39m\u001b[38;5;124mConsulta 6\u001b[39m\u001b[38;5;124m\"\u001b[39m,Consulta6\u001b[38;5;241m.\u001b[39mget_text()),\n\u001b[0;32m      9\u001b[0m     (\u001b[38;5;124m\"\u001b[39m\u001b[38;5;124mConsulta 7\u001b[39m\u001b[38;5;124m\"\u001b[39m,Consulta7\u001b[38;5;241m.\u001b[39mget_text()),\n\u001b[0;32m     10\u001b[0m     (\u001b[38;5;124m\"\u001b[39m\u001b[38;5;124mConsulta 8\u001b[39m\u001b[38;5;124m\"\u001b[39m,Consulta8\u001b[38;5;241m.\u001b[39mget_text())\n\u001b[0;32m     11\u001b[0m )\n",
      "File \u001b[1;32mc:\\Program Files\\Python312\\Lib\\site-packages\\bs4\\element.py:2428\u001b[0m, in \u001b[0;36mResultSet.__getattr__\u001b[1;34m(self, key)\u001b[0m\n\u001b[0;32m   2426\u001b[0m \u001b[38;5;28;01mdef\u001b[39;00m \u001b[38;5;21m__getattr__\u001b[39m(\u001b[38;5;28mself\u001b[39m, key):\n\u001b[0;32m   2427\u001b[0m \u001b[38;5;250m    \u001b[39m\u001b[38;5;124;03m\"\"\"Raise a helpful exception to explain a common code fix.\"\"\"\u001b[39;00m\n\u001b[1;32m-> 2428\u001b[0m     \u001b[38;5;28;01mraise\u001b[39;00m \u001b[38;5;167;01mAttributeError\u001b[39;00m(\n\u001b[0;32m   2429\u001b[0m         \u001b[38;5;124m\"\u001b[39m\u001b[38;5;124mResultSet object has no attribute \u001b[39m\u001b[38;5;124m'\u001b[39m\u001b[38;5;132;01m%s\u001b[39;00m\u001b[38;5;124m'\u001b[39m\u001b[38;5;124m. You\u001b[39m\u001b[38;5;124m'\u001b[39m\u001b[38;5;124mre probably treating a list of elements like a single element. Did you call find_all() when you meant to call find()?\u001b[39m\u001b[38;5;124m\"\u001b[39m \u001b[38;5;241m%\u001b[39m key\n\u001b[0;32m   2430\u001b[0m     )\n",
      "\u001b[1;31mAttributeError\u001b[0m: ResultSet object has no attribute 'get_text'. You're probably treating a list of elements like a single element. Did you call find_all() when you meant to call find()?"
     ]
    }
   ],
   "source": [
    "# Agrupar las consultas en un diccionario\n",
    "Consultas=(\n",
    "    (\"Consulta 1\",Consulta1.get_text()),\n",
    "    (\"Consulta 2\",Consulta2.get_text()),\n",
    "    (\"Consulta 3\",Consulta3.get_Text()),\n",
    "    (\"Consulta 4\",Consulta4.get_text()),\n",
    "    (\"Consulta 5\",Consulta5.get_text()),\n",
    "    (\"Consulta 6\",Consulta6.get_text()),\n",
    "    (\"Consulta 7\",Consulta7.get_text()),\n",
    "    (\"Consulta 8\",Consulta8.get_text())\n",
    ")"
   ]
  },
  {
   "cell_type": "code",
   "execution_count": null,
   "metadata": {},
   "outputs": [],
   "source": [
    "try:\n",
    "    conn = MySQLConnection(\n",
    "        host=\"localhost\",\n",
    "        user=\"root\",\n",
    "        password=\"AP_@l3j0_2004\",\n",
    "        database=\"analisis_bd\"\n",
    "    )\n",
    "    if conn.is_connected():\n",
    "        cursor = conn.cursor()\n",
    "        #Crear la tabla\n",
    "        cursor.execute(\"\"\"CREATE TABLE IF NOT EXISTS Extraccion(\n",
    "                        id INT PRIMARY KEY AUTO_INCREMENT,\n",
    "                        nombre VARCHAR(50) NOT NULL,\n",
    "                        detalles VARCHAR (255))\"\"\")\n",
    "        conn.commit()\n",
    "        conn.close()\n",
    "except Error as error:\n",
    "    print(\"Fallo la conexion debido a:\", error)"
   ]
  }
 ],
 "metadata": {
  "kernelspec": {
   "display_name": "Python 3",
   "language": "python",
   "name": "python3"
  },
  "language_info": {
   "codemirror_mode": {
    "name": "ipython",
    "version": 3
   },
   "file_extension": ".py",
   "mimetype": "text/x-python",
   "name": "python",
   "nbconvert_exporter": "python",
   "pygments_lexer": "ipython3",
   "version": "3.12.1"
  }
 },
 "nbformat": 4,
 "nbformat_minor": 2
}
