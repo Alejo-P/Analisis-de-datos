{
 "cells": [
  {
   "cell_type": "code",
   "execution_count": 1,
   "id": "4b6cedba-0c08-4704-a8f5-5e17cb714be7",
   "metadata": {},
   "outputs": [],
   "source": [
    "import pandas as pd"
   ]
  },
  {
   "cell_type": "code",
   "execution_count": 3,
   "id": "8d9f7e2f-7467-4c32-b45d-b5478a415e2b",
   "metadata": {},
   "outputs": [
    {
     "data": {
      "text/html": [
       "<div>\n",
       "<style scoped>\n",
       "    .dataframe tbody tr th:only-of-type {\n",
       "        vertical-align: middle;\n",
       "    }\n",
       "\n",
       "    .dataframe tbody tr th {\n",
       "        vertical-align: top;\n",
       "    }\n",
       "\n",
       "    .dataframe thead th {\n",
       "        text-align: right;\n",
       "    }\n",
       "</style>\n",
       "<table border=\"1\" class=\"dataframe\">\n",
       "  <thead>\n",
       "    <tr style=\"text-align: right;\">\n",
       "      <th></th>\n",
       "      <th>album</th>\n",
       "      <th>lyrics_title</th>\n",
       "      <th>lyrics_url</th>\n",
       "      <th>lyrics</th>\n",
       "      <th>track_views</th>\n",
       "    </tr>\n",
       "  </thead>\n",
       "  <tbody>\n",
       "    <tr>\n",
       "      <th>0</th>\n",
       "      <td>Certified Lover Boy</td>\n",
       "      <td>Certified Lover Boy* Lyrics</td>\n",
       "      <td>https://genius.com/Drake-certified-lover-boy-l...</td>\n",
       "      <td>[Verse]\\nPut my feelings on ice\\nAlways been a...</td>\n",
       "      <td>8.7K</td>\n",
       "    </tr>\n",
       "    <tr>\n",
       "      <th>1</th>\n",
       "      <td>Certified Lover Boy</td>\n",
       "      <td>Like I’m Supposed To/Do Things Lyrics</td>\n",
       "      <td>https://genius.com/Drake-like-im-supposed-to-d...</td>\n",
       "      <td>[Verse]\\nHands are tied\\nSomeone's in my ear f...</td>\n",
       "      <td>38.8K</td>\n",
       "    </tr>\n",
       "    <tr>\n",
       "      <th>2</th>\n",
       "      <td>Certified Lover Boy</td>\n",
       "      <td>Not Around Lyrics</td>\n",
       "      <td>https://genius.com/Drake-not-around-lyrics</td>\n",
       "      <td>[Intro]\\nYeah, we back\\nWassup ladies?\\nSwisha...</td>\n",
       "      <td>129.8K</td>\n",
       "    </tr>\n",
       "    <tr>\n",
       "      <th>3</th>\n",
       "      <td>Certified Lover Boy</td>\n",
       "      <td>In the Cut (Ft. Roddy Ricch) Lyrics</td>\n",
       "      <td>https://genius.com/Drake-in-the-cut-lyrics</td>\n",
       "      <td>[Intro: Drake]\\nAyy, yeah\\nPipe this shit up a...</td>\n",
       "      <td>72.1K</td>\n",
       "    </tr>\n",
       "    <tr>\n",
       "      <th>4</th>\n",
       "      <td>Certified Lover Boy</td>\n",
       "      <td>Zodiac Sign (Ft. Jessie Reyez) Lyrics</td>\n",
       "      <td>https://genius.com/Drake-zodiac-sign-lyrics</td>\n",
       "      <td>[Verse 1: Drake]\\nYou ask how many girls I bee...</td>\n",
       "      <td>54.8K</td>\n",
       "    </tr>\n",
       "    <tr>\n",
       "      <th>...</th>\n",
       "      <td>...</td>\n",
       "      <td>...</td>\n",
       "      <td>...</td>\n",
       "      <td>...</td>\n",
       "      <td>...</td>\n",
       "    </tr>\n",
       "    <tr>\n",
       "      <th>283</th>\n",
       "      <td>Unreleased Songs</td>\n",
       "      <td>Pop Style (Demo) (Ft. Kanye West) Lyrics</td>\n",
       "      <td>https://genius.com/Drake-pop-style-demo-lyrics</td>\n",
       "      <td>Lyrics from cut studio recording\\n\\n[Verse 1: ...</td>\n",
       "      <td>NaN</td>\n",
       "    </tr>\n",
       "    <tr>\n",
       "      <th>284</th>\n",
       "      <td>Unreleased Songs</td>\n",
       "      <td>Time Flies (Demo) (Ft. Future) Lyrics</td>\n",
       "      <td>https://genius.com/Drake-time-flies-demo-lyrics</td>\n",
       "      <td>Lyrics from Snippet\\n\\n[Chorus: Drake &amp; Future...</td>\n",
       "      <td>NaN</td>\n",
       "    </tr>\n",
       "    <tr>\n",
       "      <th>285</th>\n",
       "      <td>Unreleased Songs</td>\n",
       "      <td>Walk It Talk It (Demo) by Quavo (Ft. Drake) Ly...</td>\n",
       "      <td>https://genius.com/Quavo-walk-it-talk-it-demo-...</td>\n",
       "      <td>[Intro: Quavo]\\nYeah, yeah\\n(Deko)\\nWoah, hold...</td>\n",
       "      <td>NaN</td>\n",
       "    </tr>\n",
       "    <tr>\n",
       "      <th>286</th>\n",
       "      <td>Unreleased Songs</td>\n",
       "      <td>God’s Plan (Demo) (Ft. Trippie Redd) Lyrics</td>\n",
       "      <td>https://genius.com/Drake-gods-plan-demo-lyrics</td>\n",
       "      <td>[Intro: Drake]\\nThey wishing, they wishing, th...</td>\n",
       "      <td>NaN</td>\n",
       "    </tr>\n",
       "    <tr>\n",
       "      <th>287</th>\n",
       "      <td>Unreleased Songs</td>\n",
       "      <td>Real Bad Karma (Ft. Bryson Tiller) Lyrics</td>\n",
       "      <td>https://genius.com/Drake-real-bad-karma-lyrics</td>\n",
       "      <td>[Intro: Drake]\\n(Sonorous on the beat)\\nAnd I ...</td>\n",
       "      <td>50.6K</td>\n",
       "    </tr>\n",
       "  </tbody>\n",
       "</table>\n",
       "<p>288 rows × 5 columns</p>\n",
       "</div>"
      ],
      "text/plain": [
       "                   album                                       lyrics_title  \\\n",
       "0    Certified Lover Boy                        Certified Lover Boy* Lyrics   \n",
       "1    Certified Lover Boy              Like I’m Supposed To/Do Things Lyrics   \n",
       "2    Certified Lover Boy                                  Not Around Lyrics   \n",
       "3    Certified Lover Boy                In the Cut (Ft. Roddy Ricch) Lyrics   \n",
       "4    Certified Lover Boy              Zodiac Sign (Ft. Jessie Reyez) Lyrics   \n",
       "..                   ...                                                ...   \n",
       "283     Unreleased Songs           Pop Style (Demo) (Ft. Kanye West) Lyrics   \n",
       "284     Unreleased Songs              Time Flies (Demo) (Ft. Future) Lyrics   \n",
       "285     Unreleased Songs  Walk It Talk It (Demo) by Quavo (Ft. Drake) Ly...   \n",
       "286     Unreleased Songs        God’s Plan (Demo) (Ft. Trippie Redd) Lyrics   \n",
       "287     Unreleased Songs          Real Bad Karma (Ft. Bryson Tiller) Lyrics   \n",
       "\n",
       "                                            lyrics_url  \\\n",
       "0    https://genius.com/Drake-certified-lover-boy-l...   \n",
       "1    https://genius.com/Drake-like-im-supposed-to-d...   \n",
       "2           https://genius.com/Drake-not-around-lyrics   \n",
       "3           https://genius.com/Drake-in-the-cut-lyrics   \n",
       "4          https://genius.com/Drake-zodiac-sign-lyrics   \n",
       "..                                                 ...   \n",
       "283     https://genius.com/Drake-pop-style-demo-lyrics   \n",
       "284    https://genius.com/Drake-time-flies-demo-lyrics   \n",
       "285  https://genius.com/Quavo-walk-it-talk-it-demo-...   \n",
       "286     https://genius.com/Drake-gods-plan-demo-lyrics   \n",
       "287     https://genius.com/Drake-real-bad-karma-lyrics   \n",
       "\n",
       "                                                lyrics track_views  \n",
       "0    [Verse]\\nPut my feelings on ice\\nAlways been a...        8.7K  \n",
       "1    [Verse]\\nHands are tied\\nSomeone's in my ear f...       38.8K  \n",
       "2    [Intro]\\nYeah, we back\\nWassup ladies?\\nSwisha...      129.8K  \n",
       "3    [Intro: Drake]\\nAyy, yeah\\nPipe this shit up a...       72.1K  \n",
       "4    [Verse 1: Drake]\\nYou ask how many girls I bee...       54.8K  \n",
       "..                                                 ...         ...  \n",
       "283  Lyrics from cut studio recording\\n\\n[Verse 1: ...         NaN  \n",
       "284  Lyrics from Snippet\\n\\n[Chorus: Drake & Future...         NaN  \n",
       "285  [Intro: Quavo]\\nYeah, yeah\\n(Deko)\\nWoah, hold...         NaN  \n",
       "286  [Intro: Drake]\\nThey wishing, they wishing, th...         NaN  \n",
       "287  [Intro: Drake]\\n(Sonorous on the beat)\\nAnd I ...       50.6K  \n",
       "\n",
       "[288 rows x 5 columns]"
      ]
     },
     "execution_count": 3,
     "metadata": {},
     "output_type": "execute_result"
    }
   ],
   "source": [
    "datos=pd.read_csv(\"drake_data.csv\")\n",
    "datos"
   ]
  },
  {
   "cell_type": "code",
   "execution_count": 4,
   "id": "4578051e-59a4-4d3b-b2d0-390563d6538d",
   "metadata": {},
   "outputs": [
    {
     "data": {
      "text/plain": [
       "album            0\n",
       "lyrics_title     0\n",
       "lyrics_url       0\n",
       "lyrics           2\n",
       "track_views     17\n",
       "dtype: int64"
      ]
     },
     "execution_count": 4,
     "metadata": {},
     "output_type": "execute_result"
    }
   ],
   "source": [
    "datos.isnull().sum()"
   ]
  },
  {
   "cell_type": "code",
   "execution_count": 12,
   "id": "b0401dbd-cb79-41d7-816a-6e9dfecd2fa3",
   "metadata": {},
   "outputs": [
    {
     "data": {
      "text/plain": [
       "271"
      ]
     },
     "execution_count": 12,
     "metadata": {},
     "output_type": "execute_result"
    }
   ],
   "source": [
    "datos['track_views'].dropna().size"
   ]
  },
  {
   "cell_type": "code",
   "execution_count": 17,
   "id": "c6ef44a7-2584-4e34-b4ec-c6232c53b06c",
   "metadata": {},
   "outputs": [
    {
     "data": {
      "text/plain": [
       "album           0\n",
       "lyrics_title    0\n",
       "lyrics_url      0\n",
       "lyrics          2\n",
       "track_views     0\n",
       "dtype: int64"
      ]
     },
     "execution_count": 17,
     "metadata": {},
     "output_type": "execute_result"
    }
   ],
   "source": [
    "import random\n",
    "lirica=datos[\"track_views\"]\n",
    "elementos_no_nulos=datos['track_views'].dropna()\n",
    "elementos={}\n",
    "ind=0\n",
    "for clave, valor in elementos_no_nulos.items():\n",
    "    elementos[ind]=valor\n",
    "    ind+=1\n",
    "\n",
    "for i, valor in lirica.items():\n",
    "    if pd.isna(valor):\n",
    "        indice=random.randint(0, 271)\n",
    "        datos.at[i, \"track_views\"]=elementos[indice]\n",
    "datos.isnull().sum()"
   ]
  },
  {
   "cell_type": "code",
   "execution_count": null,
   "id": "8ffd50fe-1b5f-449a-9b41-f8231e158078",
   "metadata": {},
   "outputs": [],
   "source": [
    "Liricas="
   ]
  }
 ],
 "metadata": {
  "kernelspec": {
   "display_name": "Python 3 (ipykernel)",
   "language": "python",
   "name": "python3"
  },
  "language_info": {
   "codemirror_mode": {
    "name": "ipython",
    "version": 3
   },
   "file_extension": ".py",
   "mimetype": "text/x-python",
   "name": "python",
   "nbconvert_exporter": "python",
   "pygments_lexer": "ipython3",
   "version": "3.12.0"
  }
 },
 "nbformat": 4,
 "nbformat_minor": 5
}
