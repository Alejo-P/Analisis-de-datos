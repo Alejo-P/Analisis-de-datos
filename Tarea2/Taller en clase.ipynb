{
 "cells": [
  {
   "cell_type": "code",
   "execution_count": 35,
   "id": "4b6cedba-0c08-4704-a8f5-5e17cb714be7",
   "metadata": {},
   "outputs": [],
   "source": [
    "#Importar la biblioteca pandas \n",
    "import pandas as pd"
   ]
  },
  {
   "cell_type": "code",
   "execution_count": 7,
   "id": "8d9f7e2f-7467-4c32-b45d-b5478a415e2b",
   "metadata": {},
   "outputs": [
    {
     "data": {
      "text/html": [
       "<div>\n",
       "<style scoped>\n",
       "    .dataframe tbody tr th:only-of-type {\n",
       "        vertical-align: middle;\n",
       "    }\n",
       "\n",
       "    .dataframe tbody tr th {\n",
       "        vertical-align: top;\n",
       "    }\n",
       "\n",
       "    .dataframe thead th {\n",
       "        text-align: right;\n",
       "    }\n",
       "</style>\n",
       "<table border=\"1\" class=\"dataframe\">\n",
       "  <thead>\n",
       "    <tr style=\"text-align: right;\">\n",
       "      <th></th>\n",
       "      <th>album</th>\n",
       "      <th>lyrics_title</th>\n",
       "      <th>lyrics_url</th>\n",
       "      <th>lyrics</th>\n",
       "      <th>track_views</th>\n",
       "    </tr>\n",
       "  </thead>\n",
       "  <tbody>\n",
       "    <tr>\n",
       "      <th>0</th>\n",
       "      <td>Certified Lover Boy</td>\n",
       "      <td>Certified Lover Boy* Lyrics</td>\n",
       "      <td>https://genius.com/Drake-certified-lover-boy-l...</td>\n",
       "      <td>[Verse]\\nPut my feelings on ice\\nAlways been a...</td>\n",
       "      <td>8.7K</td>\n",
       "    </tr>\n",
       "    <tr>\n",
       "      <th>1</th>\n",
       "      <td>Certified Lover Boy</td>\n",
       "      <td>Like I’m Supposed To/Do Things Lyrics</td>\n",
       "      <td>https://genius.com/Drake-like-im-supposed-to-d...</td>\n",
       "      <td>[Verse]\\nHands are tied\\nSomeone's in my ear f...</td>\n",
       "      <td>38.8K</td>\n",
       "    </tr>\n",
       "    <tr>\n",
       "      <th>2</th>\n",
       "      <td>Certified Lover Boy</td>\n",
       "      <td>Not Around Lyrics</td>\n",
       "      <td>https://genius.com/Drake-not-around-lyrics</td>\n",
       "      <td>[Intro]\\nYeah, we back\\nWassup ladies?\\nSwisha...</td>\n",
       "      <td>129.8K</td>\n",
       "    </tr>\n",
       "    <tr>\n",
       "      <th>3</th>\n",
       "      <td>Certified Lover Boy</td>\n",
       "      <td>In the Cut (Ft. Roddy Ricch) Lyrics</td>\n",
       "      <td>https://genius.com/Drake-in-the-cut-lyrics</td>\n",
       "      <td>[Intro: Drake]\\nAyy, yeah\\nPipe this shit up a...</td>\n",
       "      <td>72.1K</td>\n",
       "    </tr>\n",
       "    <tr>\n",
       "      <th>4</th>\n",
       "      <td>Certified Lover Boy</td>\n",
       "      <td>Zodiac Sign (Ft. Jessie Reyez) Lyrics</td>\n",
       "      <td>https://genius.com/Drake-zodiac-sign-lyrics</td>\n",
       "      <td>[Verse 1: Drake]\\nYou ask how many girls I bee...</td>\n",
       "      <td>54.8K</td>\n",
       "    </tr>\n",
       "    <tr>\n",
       "      <th>...</th>\n",
       "      <td>...</td>\n",
       "      <td>...</td>\n",
       "      <td>...</td>\n",
       "      <td>...</td>\n",
       "      <td>...</td>\n",
       "    </tr>\n",
       "    <tr>\n",
       "      <th>283</th>\n",
       "      <td>Unreleased Songs</td>\n",
       "      <td>Pop Style (Demo) (Ft. Kanye West) Lyrics</td>\n",
       "      <td>https://genius.com/Drake-pop-style-demo-lyrics</td>\n",
       "      <td>Lyrics from cut studio recording\\n\\n[Verse 1: ...</td>\n",
       "      <td>NaN</td>\n",
       "    </tr>\n",
       "    <tr>\n",
       "      <th>284</th>\n",
       "      <td>Unreleased Songs</td>\n",
       "      <td>Time Flies (Demo) (Ft. Future) Lyrics</td>\n",
       "      <td>https://genius.com/Drake-time-flies-demo-lyrics</td>\n",
       "      <td>Lyrics from Snippet\\n\\n[Chorus: Drake &amp; Future...</td>\n",
       "      <td>NaN</td>\n",
       "    </tr>\n",
       "    <tr>\n",
       "      <th>285</th>\n",
       "      <td>Unreleased Songs</td>\n",
       "      <td>Walk It Talk It (Demo) by Quavo (Ft. Drake) Ly...</td>\n",
       "      <td>https://genius.com/Quavo-walk-it-talk-it-demo-...</td>\n",
       "      <td>[Intro: Quavo]\\nYeah, yeah\\n(Deko)\\nWoah, hold...</td>\n",
       "      <td>NaN</td>\n",
       "    </tr>\n",
       "    <tr>\n",
       "      <th>286</th>\n",
       "      <td>Unreleased Songs</td>\n",
       "      <td>God’s Plan (Demo) (Ft. Trippie Redd) Lyrics</td>\n",
       "      <td>https://genius.com/Drake-gods-plan-demo-lyrics</td>\n",
       "      <td>[Intro: Drake]\\nThey wishing, they wishing, th...</td>\n",
       "      <td>NaN</td>\n",
       "    </tr>\n",
       "    <tr>\n",
       "      <th>287</th>\n",
       "      <td>Unreleased Songs</td>\n",
       "      <td>Real Bad Karma (Ft. Bryson Tiller) Lyrics</td>\n",
       "      <td>https://genius.com/Drake-real-bad-karma-lyrics</td>\n",
       "      <td>[Intro: Drake]\\n(Sonorous on the beat)\\nAnd I ...</td>\n",
       "      <td>50.6K</td>\n",
       "    </tr>\n",
       "  </tbody>\n",
       "</table>\n",
       "<p>288 rows × 5 columns</p>\n",
       "</div>"
      ],
      "text/plain": [
       "                   album                                       lyrics_title  \\\n",
       "0    Certified Lover Boy                        Certified Lover Boy* Lyrics   \n",
       "1    Certified Lover Boy              Like I’m Supposed To/Do Things Lyrics   \n",
       "2    Certified Lover Boy                                  Not Around Lyrics   \n",
       "3    Certified Lover Boy                In the Cut (Ft. Roddy Ricch) Lyrics   \n",
       "4    Certified Lover Boy              Zodiac Sign (Ft. Jessie Reyez) Lyrics   \n",
       "..                   ...                                                ...   \n",
       "283     Unreleased Songs           Pop Style (Demo) (Ft. Kanye West) Lyrics   \n",
       "284     Unreleased Songs              Time Flies (Demo) (Ft. Future) Lyrics   \n",
       "285     Unreleased Songs  Walk It Talk It (Demo) by Quavo (Ft. Drake) Ly...   \n",
       "286     Unreleased Songs        God’s Plan (Demo) (Ft. Trippie Redd) Lyrics   \n",
       "287     Unreleased Songs          Real Bad Karma (Ft. Bryson Tiller) Lyrics   \n",
       "\n",
       "                                            lyrics_url  \\\n",
       "0    https://genius.com/Drake-certified-lover-boy-l...   \n",
       "1    https://genius.com/Drake-like-im-supposed-to-d...   \n",
       "2           https://genius.com/Drake-not-around-lyrics   \n",
       "3           https://genius.com/Drake-in-the-cut-lyrics   \n",
       "4          https://genius.com/Drake-zodiac-sign-lyrics   \n",
       "..                                                 ...   \n",
       "283     https://genius.com/Drake-pop-style-demo-lyrics   \n",
       "284    https://genius.com/Drake-time-flies-demo-lyrics   \n",
       "285  https://genius.com/Quavo-walk-it-talk-it-demo-...   \n",
       "286     https://genius.com/Drake-gods-plan-demo-lyrics   \n",
       "287     https://genius.com/Drake-real-bad-karma-lyrics   \n",
       "\n",
       "                                                lyrics track_views  \n",
       "0    [Verse]\\nPut my feelings on ice\\nAlways been a...        8.7K  \n",
       "1    [Verse]\\nHands are tied\\nSomeone's in my ear f...       38.8K  \n",
       "2    [Intro]\\nYeah, we back\\nWassup ladies?\\nSwisha...      129.8K  \n",
       "3    [Intro: Drake]\\nAyy, yeah\\nPipe this shit up a...       72.1K  \n",
       "4    [Verse 1: Drake]\\nYou ask how many girls I bee...       54.8K  \n",
       "..                                                 ...         ...  \n",
       "283  Lyrics from cut studio recording\\n\\n[Verse 1: ...         NaN  \n",
       "284  Lyrics from Snippet\\n\\n[Chorus: Drake & Future...         NaN  \n",
       "285  [Intro: Quavo]\\nYeah, yeah\\n(Deko)\\nWoah, hold...         NaN  \n",
       "286  [Intro: Drake]\\nThey wishing, they wishing, th...         NaN  \n",
       "287  [Intro: Drake]\\n(Sonorous on the beat)\\nAnd I ...       50.6K  \n",
       "\n",
       "[288 rows x 5 columns]"
      ]
     },
     "execution_count": 7,
     "metadata": {},
     "output_type": "execute_result"
    }
   ],
   "source": [
    "#Leer los datos del archivo CSV\n",
    "datos=pd.read_csv(\"drake_data.csv\")\n",
    "datos"
   ]
  },
  {
   "cell_type": "code",
   "execution_count": 8,
   "id": "4578051e-59a4-4d3b-b2d0-390563d6538d",
   "metadata": {},
   "outputs": [
    {
     "data": {
      "text/plain": [
       "album            0\n",
       "lyrics_title     0\n",
       "lyrics_url       0\n",
       "lyrics           2\n",
       "track_views     17\n",
       "dtype: int64"
      ]
     },
     "execution_count": 8,
     "metadata": {},
     "output_type": "execute_result"
    }
   ],
   "source": [
    "#Comprobar la existencia de valores nulos en el DataFrame\n",
    "datos.isnull().sum()"
   ]
  },
  {
   "cell_type": "code",
   "execution_count": 9,
   "id": "b0401dbd-cb79-41d7-816a-6e9dfecd2fa3",
   "metadata": {},
   "outputs": [
    {
     "data": {
      "text/plain": [
       "271"
      ]
     },
     "execution_count": 9,
     "metadata": {},
     "output_type": "execute_result"
    }
   ],
   "source": [
    "#Obtener el tamaño de una columna del DataFrame\n",
    "datos['track_views'].dropna().size"
   ]
  },
  {
   "cell_type": "code",
   "execution_count": 10,
   "id": "c6ef44a7-2584-4e34-b4ec-c6232c53b06c",
   "metadata": {},
   "outputs": [
    {
     "data": {
      "text/plain": [
       "album           0\n",
       "lyrics_title    0\n",
       "lyrics_url      0\n",
       "lyrics          2\n",
       "track_views     0\n",
       "dtype: int64"
      ]
     },
     "execution_count": 10,
     "metadata": {},
     "output_type": "execute_result"
    }
   ],
   "source": [
    "#Rellenar valores nulos no numericos en la columna \"track_views\"\n",
    "import random\n",
    "lirica=datos[\"track_views\"]\n",
    "elementos_no_nulos=datos['track_views'].dropna()\n",
    "elementos={}\n",
    "ind=0\n",
    "for clave, valor in elementos_no_nulos.items():\n",
    "    elementos[ind]=valor\n",
    "    ind+=1\n",
    "\n",
    "for i, valor in lirica.items():\n",
    "    if pd.isna(valor):\n",
    "        indice=random.randint(0, 271)\n",
    "        datos.at[i, \"track_views\"]=elementos[indice]\n",
    "datos.isnull().sum()"
   ]
  },
  {
   "cell_type": "code",
   "execution_count": 27,
   "id": "8ffd50fe-1b5f-449a-9b41-f8231e158078",
   "metadata": {},
   "outputs": [
    {
     "data": {
      "text/plain": [
       "album           0\n",
       "lyrics_title    0\n",
       "lyrics_url      0\n",
       "lyrics          0\n",
       "track_views     0\n",
       "dtype: int64"
      ]
     },
     "execution_count": 27,
     "metadata": {},
     "output_type": "execute_result"
    }
   ],
   "source": [
    "#Rellenar valores nulos no numericos en la columna \"lyrics\"\n",
    "Liricas=datos['lyrics']\n",
    "Nulos=[]\n",
    "No_nulos=[]\n",
    "for clave, valor in Liricas.items():\n",
    "    if pd.isna(valor):\n",
    "        datos.loc[clave, \"lyrics\"]=\"No hay informacion\"\n",
    "datos.isnull().sum()"
   ]
  },
  {
   "cell_type": "markdown",
   "id": "032dffce-6b09-462e-a1ff-050d70ec406c",
   "metadata": {},
   "source": [
    "Describir el dataset y algunos campos del dataset"
   ]
  },
  {
   "cell_type": "code",
   "execution_count": 30,
   "id": "57009a5a-dae4-4a60-99e6-ec2c8d9e3031",
   "metadata": {},
   "outputs": [
    {
     "data": {
      "text/html": [
       "<div>\n",
       "<style scoped>\n",
       "    .dataframe tbody tr th:only-of-type {\n",
       "        vertical-align: middle;\n",
       "    }\n",
       "\n",
       "    .dataframe tbody tr th {\n",
       "        vertical-align: top;\n",
       "    }\n",
       "\n",
       "    .dataframe thead th {\n",
       "        text-align: right;\n",
       "    }\n",
       "</style>\n",
       "<table border=\"1\" class=\"dataframe\">\n",
       "  <thead>\n",
       "    <tr style=\"text-align: right;\">\n",
       "      <th></th>\n",
       "      <th>album</th>\n",
       "      <th>lyrics_title</th>\n",
       "      <th>lyrics_url</th>\n",
       "      <th>lyrics</th>\n",
       "      <th>track_views</th>\n",
       "    </tr>\n",
       "  </thead>\n",
       "  <tbody>\n",
       "    <tr>\n",
       "      <th>count</th>\n",
       "      <td>288</td>\n",
       "      <td>288</td>\n",
       "      <td>288</td>\n",
       "      <td>288</td>\n",
       "      <td>288</td>\n",
       "    </tr>\n",
       "    <tr>\n",
       "      <th>unique</th>\n",
       "      <td>18</td>\n",
       "      <td>276</td>\n",
       "      <td>276</td>\n",
       "      <td>275</td>\n",
       "      <td>209</td>\n",
       "    </tr>\n",
       "    <tr>\n",
       "      <th>top</th>\n",
       "      <td>Unreleased Songs</td>\n",
       "      <td>My Side Lyrics</td>\n",
       "      <td>https://genius.com/Drake-my-side-lyrics</td>\n",
       "      <td>[Intro]\\nYeah, that's about it\\nThis shit soun...</td>\n",
       "      <td>1.3M</td>\n",
       "    </tr>\n",
       "    <tr>\n",
       "      <th>freq</th>\n",
       "      <td>31</td>\n",
       "      <td>2</td>\n",
       "      <td>2</td>\n",
       "      <td>2</td>\n",
       "      <td>12</td>\n",
       "    </tr>\n",
       "  </tbody>\n",
       "</table>\n",
       "</div>"
      ],
      "text/plain": [
       "                   album    lyrics_title  \\\n",
       "count                288             288   \n",
       "unique                18             276   \n",
       "top     Unreleased Songs  My Side Lyrics   \n",
       "freq                  31               2   \n",
       "\n",
       "                                     lyrics_url  \\\n",
       "count                                       288   \n",
       "unique                                      276   \n",
       "top     https://genius.com/Drake-my-side-lyrics   \n",
       "freq                                          2   \n",
       "\n",
       "                                                   lyrics track_views  \n",
       "count                                                 288         288  \n",
       "unique                                                275         209  \n",
       "top     [Intro]\\nYeah, that's about it\\nThis shit soun...        1.3M  \n",
       "freq                                                    2          12  "
      ]
     },
     "execution_count": 30,
     "metadata": {},
     "output_type": "execute_result"
    }
   ],
   "source": [
    "datos.describe()"
   ]
  },
  {
   "cell_type": "code",
   "execution_count": 31,
   "id": "9e5ce885-d651-4915-949a-7aae6bc9f387",
   "metadata": {},
   "outputs": [
    {
     "data": {
      "text/plain": [
       "count                288\n",
       "unique               276\n",
       "top       My Side Lyrics\n",
       "freq                   2\n",
       "Name: lyrics_title, dtype: object"
      ]
     },
     "execution_count": 31,
     "metadata": {},
     "output_type": "execute_result"
    }
   ],
   "source": [
    "datos['lyrics_title'].describe()"
   ]
  },
  {
   "cell_type": "code",
   "execution_count": 32,
   "id": "c8bbf1bd-c9ca-47ef-ae3f-a5a8b32b0f15",
   "metadata": {},
   "outputs": [
    {
     "data": {
      "text/plain": [
       "0                  Certified Lover Boy* Lyrics\n",
       "1        Like I’m Supposed To/Do Things Lyrics\n",
       "2                            Not Around Lyrics\n",
       "3          In the Cut (Ft. Roddy Ricch) Lyrics\n",
       "4        Zodiac Sign (Ft. Jessie Reyez) Lyrics\n",
       "5    Laugh Now Cry Later (Ft. Lil Durk) Lyrics\n",
       "6                             Lie To Me Lyrics\n",
       "7                          Intoxicated* Lyrics\n",
       "8                    Need Me (Lotta 42) Lyrics\n",
       "9                          Deep Pockets Lyrics\n",
       "Name: lyrics_title, dtype: object"
      ]
     },
     "execution_count": 32,
     "metadata": {},
     "output_type": "execute_result"
    }
   ],
   "source": [
    "datos['lyrics_title'].head(10)"
   ]
  },
  {
   "cell_type": "code",
   "execution_count": 36,
   "id": "507d5f1f-1921-4d04-847a-1448a1178304",
   "metadata": {},
   "outputs": [
    {
     "data": {
      "text/plain": [
       "count                                                   288\n",
       "unique                                                  275\n",
       "top       [Intro]\\nYeah, that's about it\\nThis shit soun...\n",
       "freq                                                      2\n",
       "Name: lyrics, dtype: object"
      ]
     },
     "execution_count": 36,
     "metadata": {},
     "output_type": "execute_result"
    }
   ],
   "source": [
    "datos['lyrics'].describe()"
   ]
  },
  {
   "cell_type": "code",
   "execution_count": 38,
   "id": "766b05a9-33e9-4719-be7c-85f0fcf1d71f",
   "metadata": {},
   "outputs": [
    {
     "data": {
      "text/plain": [
       "0    [Verse]\\nPut my feelings on ice\\nAlways been a...\n",
       "1    [Verse]\\nHands are tied\\nSomeone's in my ear f...\n",
       "2    [Intro]\\nYeah, we back\\nWassup ladies?\\nSwisha...\n",
       "3    [Intro: Drake]\\nAyy, yeah\\nPipe this shit up a...\n",
       "4    [Verse 1: Drake]\\nYou ask how many girls I bee...\n",
       "5    [Intro: Drake]\\nWoah, woah\\nYeah\\n\\n[Chorus: D...\n",
       "6    [Intro: Pimp C]\\nMan, get the fuck away from u...\n",
       "7    [Chorus]\\nJust hung up the phone and I\\nCould ...\n",
       "8    [Intro]\\nPreviously on Ready To Die\\n\\n[Chorus...\n",
       "9    [Intro]\\nFor my nigga Hush\\nYeah, look\\n\\n[Ver...\n",
       "Name: lyrics, dtype: object"
      ]
     },
     "execution_count": 38,
     "metadata": {},
     "output_type": "execute_result"
    }
   ],
   "source": [
    "datos['lyrics'].head(10)"
   ]
  },
  {
   "cell_type": "markdown",
   "id": "30ecf0e6-23a4-434f-b3ca-2b3b890c5930",
   "metadata": {},
   "source": [
    "_Realizar consultas de interes_"
   ]
  },
  {
   "cell_type": "code",
   "execution_count": 52,
   "id": "4ce27ec4-2a28-45db-80aa-e78244d9b5df",
   "metadata": {},
   "outputs": [
    {
     "data": {
      "text/html": [
       "<div>\n",
       "<style scoped>\n",
       "    .dataframe tbody tr th:only-of-type {\n",
       "        vertical-align: middle;\n",
       "    }\n",
       "\n",
       "    .dataframe tbody tr th {\n",
       "        vertical-align: top;\n",
       "    }\n",
       "\n",
       "    .dataframe thead th {\n",
       "        text-align: right;\n",
       "    }\n",
       "</style>\n",
       "<table border=\"1\" class=\"dataframe\">\n",
       "  <thead>\n",
       "    <tr style=\"text-align: right;\">\n",
       "      <th></th>\n",
       "      <th>album</th>\n",
       "      <th>lyrics_title</th>\n",
       "      <th>lyrics_url</th>\n",
       "      <th>lyrics</th>\n",
       "      <th>track_views</th>\n",
       "    </tr>\n",
       "  </thead>\n",
       "  <tbody>\n",
       "    <tr>\n",
       "      <th>0</th>\n",
       "      <td>Certified Lover Boy</td>\n",
       "      <td>Certified Lover Boy* Lyrics</td>\n",
       "      <td>https://genius.com/Drake-certified-lover-boy-l...</td>\n",
       "      <td>[Verse]\\nPut my feelings on ice\\nAlways been a...</td>\n",
       "      <td>8.7K</td>\n",
       "    </tr>\n",
       "  </tbody>\n",
       "</table>\n",
       "</div>"
      ],
      "text/plain": [
       "                 album                 lyrics_title  \\\n",
       "0  Certified Lover Boy  Certified Lover Boy* Lyrics   \n",
       "\n",
       "                                          lyrics_url  \\\n",
       "0  https://genius.com/Drake-certified-lover-boy-l...   \n",
       "\n",
       "                                              lyrics track_views  \n",
       "0  [Verse]\\nPut my feelings on ice\\nAlways been a...        8.7K  "
      ]
     },
     "execution_count": 52,
     "metadata": {},
     "output_type": "execute_result"
    }
   ],
   "source": [
    "#Consultar y filtrar las filas que de \"track_views\" sea 8.7K y mostrar los resultados\n",
    "datos[datos[\"track_views\"]==\"8.7K\"]"
   ]
  },
  {
   "cell_type": "code",
   "execution_count": 43,
   "id": "c344b31a-67a6-4a40-989d-74f45eba2345",
   "metadata": {},
   "outputs": [
    {
     "data": {
      "text/html": [
       "<div>\n",
       "<style scoped>\n",
       "    .dataframe tbody tr th:only-of-type {\n",
       "        vertical-align: middle;\n",
       "    }\n",
       "\n",
       "    .dataframe tbody tr th {\n",
       "        vertical-align: top;\n",
       "    }\n",
       "\n",
       "    .dataframe thead th {\n",
       "        text-align: right;\n",
       "    }\n",
       "</style>\n",
       "<table border=\"1\" class=\"dataframe\">\n",
       "  <thead>\n",
       "    <tr style=\"text-align: right;\">\n",
       "      <th></th>\n",
       "      <th>album</th>\n",
       "      <th>lyrics_title</th>\n",
       "      <th>lyrics_url</th>\n",
       "      <th>lyrics</th>\n",
       "      <th>track_views</th>\n",
       "    </tr>\n",
       "  </thead>\n",
       "  <tbody>\n",
       "    <tr>\n",
       "      <th>0</th>\n",
       "      <td>Certified Lover Boy</td>\n",
       "      <td>Certified Lover Boy* Lyrics</td>\n",
       "      <td>https://genius.com/Drake-certified-lover-boy-l...</td>\n",
       "      <td>[Verse]\\nPut my feelings on ice\\nAlways been a...</td>\n",
       "      <td>8.7K</td>\n",
       "    </tr>\n",
       "    <tr>\n",
       "      <th>1</th>\n",
       "      <td>Certified Lover Boy</td>\n",
       "      <td>Like I’m Supposed To/Do Things Lyrics</td>\n",
       "      <td>https://genius.com/Drake-like-im-supposed-to-d...</td>\n",
       "      <td>[Verse]\\nHands are tied\\nSomeone's in my ear f...</td>\n",
       "      <td>38.8K</td>\n",
       "    </tr>\n",
       "    <tr>\n",
       "      <th>2</th>\n",
       "      <td>Certified Lover Boy</td>\n",
       "      <td>Not Around Lyrics</td>\n",
       "      <td>https://genius.com/Drake-not-around-lyrics</td>\n",
       "      <td>[Intro]\\nYeah, we back\\nWassup ladies?\\nSwisha...</td>\n",
       "      <td>129.8K</td>\n",
       "    </tr>\n",
       "    <tr>\n",
       "      <th>3</th>\n",
       "      <td>Certified Lover Boy</td>\n",
       "      <td>In the Cut (Ft. Roddy Ricch) Lyrics</td>\n",
       "      <td>https://genius.com/Drake-in-the-cut-lyrics</td>\n",
       "      <td>[Intro: Drake]\\nAyy, yeah\\nPipe this shit up a...</td>\n",
       "      <td>72.1K</td>\n",
       "    </tr>\n",
       "    <tr>\n",
       "      <th>4</th>\n",
       "      <td>Certified Lover Boy</td>\n",
       "      <td>Zodiac Sign (Ft. Jessie Reyez) Lyrics</td>\n",
       "      <td>https://genius.com/Drake-zodiac-sign-lyrics</td>\n",
       "      <td>[Verse 1: Drake]\\nYou ask how many girls I bee...</td>\n",
       "      <td>54.8K</td>\n",
       "    </tr>\n",
       "  </tbody>\n",
       "</table>\n",
       "</div>"
      ],
      "text/plain": [
       "                 album                           lyrics_title  \\\n",
       "0  Certified Lover Boy            Certified Lover Boy* Lyrics   \n",
       "1  Certified Lover Boy  Like I’m Supposed To/Do Things Lyrics   \n",
       "2  Certified Lover Boy                      Not Around Lyrics   \n",
       "3  Certified Lover Boy    In the Cut (Ft. Roddy Ricch) Lyrics   \n",
       "4  Certified Lover Boy  Zodiac Sign (Ft. Jessie Reyez) Lyrics   \n",
       "\n",
       "                                          lyrics_url  \\\n",
       "0  https://genius.com/Drake-certified-lover-boy-l...   \n",
       "1  https://genius.com/Drake-like-im-supposed-to-d...   \n",
       "2         https://genius.com/Drake-not-around-lyrics   \n",
       "3         https://genius.com/Drake-in-the-cut-lyrics   \n",
       "4        https://genius.com/Drake-zodiac-sign-lyrics   \n",
       "\n",
       "                                              lyrics track_views  \n",
       "0  [Verse]\\nPut my feelings on ice\\nAlways been a...        8.7K  \n",
       "1  [Verse]\\nHands are tied\\nSomeone's in my ear f...       38.8K  \n",
       "2  [Intro]\\nYeah, we back\\nWassup ladies?\\nSwisha...      129.8K  \n",
       "3  [Intro: Drake]\\nAyy, yeah\\nPipe this shit up a...       72.1K  \n",
       "4  [Verse 1: Drake]\\nYou ask how many girls I bee...       54.8K  "
      ]
     },
     "execution_count": 43,
     "metadata": {},
     "output_type": "execute_result"
    }
   ],
   "source": [
    "#Consultar y filtrar las filas que contengan \"album\" igual a \"Certified Lover Boy\", mostrar los 5 primeros resultados\n",
    "datos[datos['album']==\"Certified Lover Boy\"].head(5)"
   ]
  },
  {
   "cell_type": "code",
   "execution_count": null,
   "id": "85a596e3-1b17-4bfd-a42b-cf62b9092fe5",
   "metadata": {},
   "outputs": [],
   "source": []
  }
 ],
 "metadata": {
  "kernelspec": {
   "display_name": "Python 3 (ipykernel)",
   "language": "python",
   "name": "python3"
  },
  "language_info": {
   "codemirror_mode": {
    "name": "ipython",
    "version": 3
   },
   "file_extension": ".py",
   "mimetype": "text/x-python",
   "name": "python",
   "nbconvert_exporter": "python",
   "pygments_lexer": "ipython3",
   "version": "3.12.0"
  }
 },
 "nbformat": 4,
 "nbformat_minor": 5
}
