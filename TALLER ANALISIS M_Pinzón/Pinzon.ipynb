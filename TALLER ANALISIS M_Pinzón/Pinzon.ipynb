{
 "cells": [
  {
   "cell_type": "code",
   "execution_count": 1,
   "id": "d69792c3-6757-47a9-ab39-f22c42a94348",
   "metadata": {},
   "outputs": [],
   "source": [
    "# Importar las bibliotecas necesarias\n",
    "import os\n",
    "import pandas as pd\n",
    "import sqlite3\n",
    "# Utilizar la ruta de trabajo actual\n",
    "ruta=os.getcwd()\n",
    "rutaarch=ruta+\"/Archivos\""
   ]
  },
  {
   "cell_type": "markdown",
   "id": "663603a3",
   "metadata": {},
   "source": [
    "_a.\tImportar file3.db desde la base de datos SQLite y exportarlo como archivo CSV._"
   ]
  },
  {
   "cell_type": "code",
   "execution_count": 2,
   "id": "a1eaea7d",
   "metadata": {},
   "outputs": [
    {
     "data": {
      "text/html": [
       "<div>\n",
       "<style scoped>\n",
       "    .dataframe tbody tr th:only-of-type {\n",
       "        vertical-align: middle;\n",
       "    }\n",
       "\n",
       "    .dataframe tbody tr th {\n",
       "        vertical-align: top;\n",
       "    }\n",
       "\n",
       "    .dataframe thead th {\n",
       "        text-align: right;\n",
       "    }\n",
       "</style>\n",
       "<table border=\"1\" class=\"dataframe\">\n",
       "  <thead>\n",
       "    <tr style=\"text-align: right;\">\n",
       "      <th></th>\n",
       "      <th>_id</th>\n",
       "      <th>Tipo</th>\n",
       "      <th>nombreAlojamiento</th>\n",
       "      <th>Zona</th>\n",
       "      <th>Nhab</th>\n",
       "      <th>Servicios</th>\n",
       "      <th>Fechas</th>\n",
       "      <th>Valoracion</th>\n",
       "      <th>Evaluaciones</th>\n",
       "      <th>Noche</th>\n",
       "      <th>Total</th>\n",
       "    </tr>\n",
       "  </thead>\n",
       "  <tbody>\n",
       "    <tr>\n",
       "      <th>0</th>\n",
       "      <td>6581ffbe7d4586d80596ad81</td>\n",
       "      <td>Habitación privada</td>\n",
       "      <td>Beautiful and sunny apartment at Eixample!</td>\n",
       "      <td>El Fort Pienc</td>\n",
       "      <td>2 huéspedes · 1 dormitorio · 1 cama · 1 baño</td>\n",
       "      <td>Wifi · Cocina · Lavadora</td>\n",
       "      <td>17 dic. – 19 dic.</td>\n",
       "      <td>NA</td>\n",
       "      <td>No hay evaluaciones</td>\n",
       "      <td>58 €</td>\n",
       "      <td>116€ en total</td>\n",
       "    </tr>\n",
       "    <tr>\n",
       "      <th>1</th>\n",
       "      <td>6581ffbe7d4586d80596ad82</td>\n",
       "      <td>Habitación privada</td>\n",
       "      <td>Room near the center</td>\n",
       "      <td>Distrito de Sants-Montjuïc</td>\n",
       "      <td>2 huéspedes · 1 dormitorio · 1 cama · 1 baño</td>\n",
       "      <td>Wifi</td>\n",
       "      <td>17 dic. – 19 dic.</td>\n",
       "      <td>4,21</td>\n",
       "      <td>(185 evaluaciones)</td>\n",
       "      <td>36 €</td>\n",
       "      <td>71€ en total</td>\n",
       "    </tr>\n",
       "    <tr>\n",
       "      <th>2</th>\n",
       "      <td>6581ffbe7d4586d80596ad81</td>\n",
       "      <td>Habitación privada</td>\n",
       "      <td>Beautiful and sunny apartment at Eixample!</td>\n",
       "      <td>El Fort Pienc</td>\n",
       "      <td>2 huéspedes · 1 dormitorio · 1 cama · 1 baño</td>\n",
       "      <td>Wifi · Cocina · Lavadora</td>\n",
       "      <td>17 dic. – 19 dic.</td>\n",
       "      <td>NA</td>\n",
       "      <td>No hay evaluaciones</td>\n",
       "      <td>58 €</td>\n",
       "      <td>116€ en total</td>\n",
       "    </tr>\n",
       "    <tr>\n",
       "      <th>3</th>\n",
       "      <td>6581ffbe7d4586d80596ad82</td>\n",
       "      <td>Habitación privada</td>\n",
       "      <td>Room near the center</td>\n",
       "      <td>Distrito de Sants-Montjuïc</td>\n",
       "      <td>2 huéspedes · 1 dormitorio · 1 cama · 1 baño</td>\n",
       "      <td>Wifi</td>\n",
       "      <td>17 dic. – 19 dic.</td>\n",
       "      <td>4,21</td>\n",
       "      <td>(185 evaluaciones)</td>\n",
       "      <td>36 €</td>\n",
       "      <td>71€ en total</td>\n",
       "    </tr>\n",
       "    <tr>\n",
       "      <th>4</th>\n",
       "      <td>6581ffbe7d4586d80596ad81</td>\n",
       "      <td>Habitación privada</td>\n",
       "      <td>Beautiful and sunny apartment at Eixample!</td>\n",
       "      <td>El Fort Pienc</td>\n",
       "      <td>2 huéspedes · 1 dormitorio · 1 cama · 1 baño</td>\n",
       "      <td>Wifi · Cocina · Lavadora</td>\n",
       "      <td>17 dic. – 19 dic.</td>\n",
       "      <td>NA</td>\n",
       "      <td>No hay evaluaciones</td>\n",
       "      <td>58 €</td>\n",
       "      <td>116€ en total</td>\n",
       "    </tr>\n",
       "    <tr>\n",
       "      <th>5</th>\n",
       "      <td>6581ffbe7d4586d80596ad82</td>\n",
       "      <td>Habitación privada</td>\n",
       "      <td>Room near the center</td>\n",
       "      <td>Distrito de Sants-Montjuïc</td>\n",
       "      <td>2 huéspedes · 1 dormitorio · 1 cama · 1 baño</td>\n",
       "      <td>Wifi</td>\n",
       "      <td>17 dic. – 19 dic.</td>\n",
       "      <td>4,21</td>\n",
       "      <td>(185 evaluaciones)</td>\n",
       "      <td>36 €</td>\n",
       "      <td>71€ en total</td>\n",
       "    </tr>\n",
       "  </tbody>\n",
       "</table>\n",
       "</div>"
      ],
      "text/plain": [
       "                        _id                Tipo  \\\n",
       "0  6581ffbe7d4586d80596ad81  Habitación privada   \n",
       "1  6581ffbe7d4586d80596ad82  Habitación privada   \n",
       "2  6581ffbe7d4586d80596ad81  Habitación privada   \n",
       "3  6581ffbe7d4586d80596ad82  Habitación privada   \n",
       "4  6581ffbe7d4586d80596ad81  Habitación privada   \n",
       "5  6581ffbe7d4586d80596ad82  Habitación privada   \n",
       "\n",
       "                            nombreAlojamiento                        Zona  \\\n",
       "0  Beautiful and sunny apartment at Eixample!               El Fort Pienc   \n",
       "1                        Room near the center  Distrito de Sants-Montjuïc   \n",
       "2  Beautiful and sunny apartment at Eixample!               El Fort Pienc   \n",
       "3                        Room near the center  Distrito de Sants-Montjuïc   \n",
       "4  Beautiful and sunny apartment at Eixample!               El Fort Pienc   \n",
       "5                        Room near the center  Distrito de Sants-Montjuïc   \n",
       "\n",
       "                                           Nhab                 Servicios  \\\n",
       "0  2 huéspedes · 1 dormitorio · 1 cama · 1 baño  Wifi · Cocina · Lavadora   \n",
       "1  2 huéspedes · 1 dormitorio · 1 cama · 1 baño                      Wifi   \n",
       "2  2 huéspedes · 1 dormitorio · 1 cama · 1 baño  Wifi · Cocina · Lavadora   \n",
       "3  2 huéspedes · 1 dormitorio · 1 cama · 1 baño                      Wifi   \n",
       "4  2 huéspedes · 1 dormitorio · 1 cama · 1 baño  Wifi · Cocina · Lavadora   \n",
       "5  2 huéspedes · 1 dormitorio · 1 cama · 1 baño                      Wifi   \n",
       "\n",
       "              Fechas Valoracion         Evaluaciones Noche          Total  \n",
       "0  17 dic. – 19 dic.         NA  No hay evaluaciones  58 €  116€ en total  \n",
       "1  17 dic. – 19 dic.       4,21   (185 evaluaciones)  36 €   71€ en total  \n",
       "2  17 dic. – 19 dic.         NA  No hay evaluaciones  58 €  116€ en total  \n",
       "3  17 dic. – 19 dic.       4,21   (185 evaluaciones)  36 €   71€ en total  \n",
       "4  17 dic. – 19 dic.         NA  No hay evaluaciones  58 €  116€ en total  \n",
       "5  17 dic. – 19 dic.       4,21   (185 evaluaciones)  36 €   71€ en total  "
      ]
     },
     "execution_count": 2,
     "metadata": {},
     "output_type": "execute_result"
    }
   ],
   "source": [
    "# Conexion con la base de datos\n",
    "conexion=sqlite3.connect(ruta+\"/file3.db\")\n",
    "consulta=\"SELECT * FROM TABLE_NAME\"\n",
    "dataset1=pd.read_sql_query(consulta, conexion)\n",
    "conexion.commit()\n",
    "conexion.close()\n",
    "# Guardar el DataFrame como archivo CSV\n",
    "dataset1.to_csv(rutaarch+\"/Datos file3.csv\", index=False)\n",
    "# Mostrar la informacion (6 primeras filas)\n",
    "dataset1.head(6)"
   ]
  },
  {
   "cell_type": "markdown",
   "id": "f582eecb",
   "metadata": {},
   "source": [
    "_Leer el archivo file2.sql en Python_"
   ]
  },
  {
   "cell_type": "code",
   "execution_count": 3,
   "id": "ae25cd58",
   "metadata": {},
   "outputs": [],
   "source": [
    "# Conecta con la base de datos (crea el archivo si no existe)\n",
    "conexion = sqlite3.connect(rutaarch+\"/file2.db\")\n",
    "\n",
    "# Crea un objeto cursor para ejecutar comandos SQL\n",
    "cursor = conexion.cursor()\n",
    "\n",
    "# Lee el contenido del archivo .sql con diferentes encodings\n",
    "with open(ruta + \"/file2.sql\", 'r', encoding=\"latin-1\") as archivo_sql:\n",
    "    comandos_sql = archivo_sql.read()\n",
    "\n",
    "# Ejecuta los comandos SQL en la base de datos\n",
    "cursor.executescript(comandos_sql)\n",
    "\n",
    "# Guarda los cambios y cierra la conexión\n",
    "conexion.commit()\n",
    "dataset2=pd.read_sql_query(\"SELECT * FROM table_name\", conexion)\n",
    "conexion.close()"
   ]
  },
  {
   "cell_type": "markdown",
   "id": "5142e9a7",
   "metadata": {},
   "source": [
    "_7.\tLeer file1.json desde Jupyter con Python_"
   ]
  },
  {
   "cell_type": "code",
   "execution_count": 4,
   "id": "f9e69cb4",
   "metadata": {},
   "outputs": [
    {
     "data": {
      "text/html": [
       "<div>\n",
       "<style scoped>\n",
       "    .dataframe tbody tr th:only-of-type {\n",
       "        vertical-align: middle;\n",
       "    }\n",
       "\n",
       "    .dataframe tbody tr th {\n",
       "        vertical-align: top;\n",
       "    }\n",
       "\n",
       "    .dataframe thead th {\n",
       "        text-align: right;\n",
       "    }\n",
       "</style>\n",
       "<table border=\"1\" class=\"dataframe\">\n",
       "  <thead>\n",
       "    <tr style=\"text-align: right;\">\n",
       "      <th></th>\n",
       "      <th>_id</th>\n",
       "      <th>Tipo</th>\n",
       "      <th>nombreAlojamiento</th>\n",
       "      <th>Zona</th>\n",
       "      <th>Nhab</th>\n",
       "      <th>Servicios</th>\n",
       "      <th>Fechas</th>\n",
       "      <th>Valoracion</th>\n",
       "      <th>Evaluaciones</th>\n",
       "      <th>Noche</th>\n",
       "      <th>Total</th>\n",
       "    </tr>\n",
       "  </thead>\n",
       "  <tbody>\n",
       "    <tr>\n",
       "      <th>0</th>\n",
       "      <td>6581ffbe7d4586d80596abf3</td>\n",
       "      <td>Alojamiento entero: piso</td>\n",
       "      <td>Barcelona Marta´s Flat 2 - FC Barcelona HUTB01...</td>\n",
       "      <td>L'Hospitalet de Llobregat</td>\n",
       "      <td>3 huéspedes · 2 dormitorios · 3 camas · 1 baño</td>\n",
       "      <td>Wifi · Cocina · Lavadora · Aire acondicionado</td>\n",
       "      <td>10 dic. – 12 dic.</td>\n",
       "      <td>4,56</td>\n",
       "      <td>(103 evaluaciones)</td>\n",
       "      <td>71 €</td>\n",
       "      <td>141€ en total</td>\n",
       "    </tr>\n",
       "    <tr>\n",
       "      <th>1</th>\n",
       "      <td>6581ffbe7d4586d80596abf4</td>\n",
       "      <td>Habitación de hotel boutique</td>\n",
       "      <td>Habitación Doble Exterior, baño privado y balcón</td>\n",
       "      <td>Eixample</td>\n",
       "      <td>2 huéspedes · 1 dormitorio · 1 cama · 1 baño p...</td>\n",
       "      <td>Wifi · Aire acondicionado</td>\n",
       "      <td>17 dic. – 19 dic.</td>\n",
       "      <td>4,56</td>\n",
       "      <td>(9 evaluaciones)</td>\n",
       "      <td>87 €</td>\n",
       "      <td>174€ en total</td>\n",
       "    </tr>\n",
       "    <tr>\n",
       "      <th>2</th>\n",
       "      <td>6581ffbe7d4586d80596abf5</td>\n",
       "      <td>Habitación privada</td>\n",
       "      <td>Luxury room with private bathroom 2</td>\n",
       "      <td>Sant Pere-Santa Caterina i la Ribera</td>\n",
       "      <td>3 huéspedes · 1 dormitorio · 1 baño privado</td>\n",
       "      <td>Wifi · Cocina · Lavadora</td>\n",
       "      <td>10 dic. – 12 dic.</td>\n",
       "      <td>4,53</td>\n",
       "      <td>(15 evaluaciones)</td>\n",
       "      <td>76 €</td>\n",
       "      <td>151€ en total</td>\n",
       "    </tr>\n",
       "  </tbody>\n",
       "</table>\n",
       "</div>"
      ],
      "text/plain": [
       "                        _id                          Tipo  \\\n",
       "0  6581ffbe7d4586d80596abf3      Alojamiento entero: piso   \n",
       "1  6581ffbe7d4586d80596abf4  Habitación de hotel boutique   \n",
       "2  6581ffbe7d4586d80596abf5            Habitación privada   \n",
       "\n",
       "                                   nombreAlojamiento  \\\n",
       "0  Barcelona Marta´s Flat 2 - FC Barcelona HUTB01...   \n",
       "1   Habitación Doble Exterior, baño privado y balcón   \n",
       "2                Luxury room with private bathroom 2   \n",
       "\n",
       "                                   Zona  \\\n",
       "0             L'Hospitalet de Llobregat   \n",
       "1                              Eixample   \n",
       "2  Sant Pere-Santa Caterina i la Ribera   \n",
       "\n",
       "                                                Nhab  \\\n",
       "0     3 huéspedes · 2 dormitorios · 3 camas · 1 baño   \n",
       "1  2 huéspedes · 1 dormitorio · 1 cama · 1 baño p...   \n",
       "2        3 huéspedes · 1 dormitorio · 1 baño privado   \n",
       "\n",
       "                                       Servicios             Fechas  \\\n",
       "0  Wifi · Cocina · Lavadora · Aire acondicionado  10 dic. – 12 dic.   \n",
       "1                      Wifi · Aire acondicionado  17 dic. – 19 dic.   \n",
       "2                       Wifi · Cocina · Lavadora  10 dic. – 12 dic.   \n",
       "\n",
       "  Valoracion         Evaluaciones Noche          Total  \n",
       "0       4,56   (103 evaluaciones)  71 €  141€ en total  \n",
       "1       4,56     (9 evaluaciones)  87 €  174€ en total  \n",
       "2       4,53    (15 evaluaciones)  76 €  151€ en total  "
      ]
     },
     "execution_count": 4,
     "metadata": {},
     "output_type": "execute_result"
    }
   ],
   "source": [
    "dataset3=pd.read_json(ruta+\"/file1.json\")\n",
    "# Mostrar las primeras 3 filas\n",
    "dataset3.head(3)"
   ]
  },
  {
   "cell_type": "markdown",
   "id": "16fa0d2c",
   "metadata": {},
   "source": [
    "_8.\tLeer file0.csv desde Jupyter con Python_"
   ]
  },
  {
   "cell_type": "code",
   "execution_count": 5,
   "id": "c216227a-3559-4ba7-91f2-e7ea038c3abb",
   "metadata": {},
   "outputs": [
    {
     "data": {
      "text/html": [
       "<div>\n",
       "<style scoped>\n",
       "    .dataframe tbody tr th:only-of-type {\n",
       "        vertical-align: middle;\n",
       "    }\n",
       "\n",
       "    .dataframe tbody tr th {\n",
       "        vertical-align: top;\n",
       "    }\n",
       "\n",
       "    .dataframe thead th {\n",
       "        text-align: right;\n",
       "    }\n",
       "</style>\n",
       "<table border=\"1\" class=\"dataframe\">\n",
       "  <thead>\n",
       "    <tr style=\"text-align: right;\">\n",
       "      <th></th>\n",
       "      <th>Tipo</th>\n",
       "      <th>nombreAlojamiento</th>\n",
       "      <th>Zona</th>\n",
       "      <th>Nhab</th>\n",
       "      <th>Servicios</th>\n",
       "      <th>Fechas</th>\n",
       "      <th>Valoracion</th>\n",
       "      <th>Evaluaciones</th>\n",
       "      <th>Noche</th>\n",
       "      <th>Total</th>\n",
       "    </tr>\n",
       "    <tr>\n",
       "      <th>_id</th>\n",
       "      <th></th>\n",
       "      <th></th>\n",
       "      <th></th>\n",
       "      <th></th>\n",
       "      <th></th>\n",
       "      <th></th>\n",
       "      <th></th>\n",
       "      <th></th>\n",
       "      <th></th>\n",
       "      <th></th>\n",
       "    </tr>\n",
       "  </thead>\n",
       "  <tbody>\n",
       "    <tr>\n",
       "      <th>6581ffbe7d4586d80596abee</th>\n",
       "      <td>Alojamiento entero: piso</td>\n",
       "      <td>Precioso Estudio en Barcelona *Bcn* A01</td>\n",
       "      <td>Eixample</td>\n",
       "      <td>3 huéspedes · Estudio · 2 camas · 1 baño</td>\n",
       "      <td>Tu anfitrión es una empresa · Wifi · Cocina · ...</td>\n",
       "      <td>17 dic. – 19 dic.</td>\n",
       "      <td>4,76</td>\n",
       "      <td>(46 evaluaciones)</td>\n",
       "      <td>103 €</td>\n",
       "      <td>206€ en total</td>\n",
       "    </tr>\n",
       "    <tr>\n",
       "      <th>6581ffbe7d4586d80596abef</th>\n",
       "      <td>Habitación privada</td>\n",
       "      <td>Habitación doble ( tranquila) cerca de Las Ram...</td>\n",
       "      <td>Ciutat Vella</td>\n",
       "      <td>2 huéspedes · 1 dormitorio · 2 camas · 2 baños...</td>\n",
       "      <td>Wifi · Lavadora</td>\n",
       "      <td>10 dic. – 12 dic.</td>\n",
       "      <td>4,9</td>\n",
       "      <td>(10 evaluaciones)</td>\n",
       "      <td>50 €</td>\n",
       "      <td>100€ en total</td>\n",
       "    </tr>\n",
       "    <tr>\n",
       "      <th>6581ffbe7d4586d80596abf0</th>\n",
       "      <td>Habitación de hotel boutique</td>\n",
       "      <td>Urban Boutique Room 3</td>\n",
       "      <td>L'Hospitalet de Llobregat</td>\n",
       "      <td>2 huéspedes · 1 dormitorio · 1 cama · 1 baño p...</td>\n",
       "      <td>Wifi · Aire acondicionado</td>\n",
       "      <td>17 dic. – 19 dic.</td>\n",
       "      <td>4,4</td>\n",
       "      <td>(20 evaluaciones)</td>\n",
       "      <td>51 €</td>\n",
       "      <td>102€ en total</td>\n",
       "    </tr>\n",
       "    <tr>\n",
       "      <th>6581ffbe7d4586d80596abf1</th>\n",
       "      <td>Habitación de hotel</td>\n",
       "      <td>Estilo atemporal en habitación doble con balcón</td>\n",
       "      <td>Eixample</td>\n",
       "      <td>2 huéspedes · 1 dormitorio · 1 baño privado</td>\n",
       "      <td>Wifi · Aire acondicionado</td>\n",
       "      <td>10 dic. – 12 dic.</td>\n",
       "      <td>4,52</td>\n",
       "      <td>(462 evaluaciones)</td>\n",
       "      <td>84 €</td>\n",
       "      <td>168€ en total</td>\n",
       "    </tr>\n",
       "    <tr>\n",
       "      <th>6581ffbe7d4586d80596abf2</th>\n",
       "      <td>Habitación privada</td>\n",
       "      <td>Luxurious Room with En Suite Bathroom</td>\n",
       "      <td>Ciutat Vella</td>\n",
       "      <td>2 huéspedes · 1 dormitorio · 1 baño privado</td>\n",
       "      <td>Wifi · Cocina · Aire acondicionado</td>\n",
       "      <td>24 dic. – 26 dic.</td>\n",
       "      <td>4,88</td>\n",
       "      <td>(42 evaluaciones)</td>\n",
       "      <td>95 €</td>\n",
       "      <td>189€ en total</td>\n",
       "    </tr>\n",
       "  </tbody>\n",
       "</table>\n",
       "</div>"
      ],
      "text/plain": [
       "                                                  Tipo  \\\n",
       "_id                                                      \n",
       "6581ffbe7d4586d80596abee      Alojamiento entero: piso   \n",
       "6581ffbe7d4586d80596abef            Habitación privada   \n",
       "6581ffbe7d4586d80596abf0  Habitación de hotel boutique   \n",
       "6581ffbe7d4586d80596abf1           Habitación de hotel   \n",
       "6581ffbe7d4586d80596abf2            Habitación privada   \n",
       "\n",
       "                                                          nombreAlojamiento  \\\n",
       "_id                                                                           \n",
       "6581ffbe7d4586d80596abee            Precioso Estudio en Barcelona *Bcn* A01   \n",
       "6581ffbe7d4586d80596abef  Habitación doble ( tranquila) cerca de Las Ram...   \n",
       "6581ffbe7d4586d80596abf0                              Urban Boutique Room 3   \n",
       "6581ffbe7d4586d80596abf1    Estilo atemporal en habitación doble con balcón   \n",
       "6581ffbe7d4586d80596abf2              Luxurious Room with En Suite Bathroom   \n",
       "\n",
       "                                               Zona  \\\n",
       "_id                                                   \n",
       "6581ffbe7d4586d80596abee                   Eixample   \n",
       "6581ffbe7d4586d80596abef               Ciutat Vella   \n",
       "6581ffbe7d4586d80596abf0  L'Hospitalet de Llobregat   \n",
       "6581ffbe7d4586d80596abf1                   Eixample   \n",
       "6581ffbe7d4586d80596abf2               Ciutat Vella   \n",
       "\n",
       "                                                                       Nhab  \\\n",
       "_id                                                                           \n",
       "6581ffbe7d4586d80596abee           3 huéspedes · Estudio · 2 camas · 1 baño   \n",
       "6581ffbe7d4586d80596abef  2 huéspedes · 1 dormitorio · 2 camas · 2 baños...   \n",
       "6581ffbe7d4586d80596abf0  2 huéspedes · 1 dormitorio · 1 cama · 1 baño p...   \n",
       "6581ffbe7d4586d80596abf1        2 huéspedes · 1 dormitorio · 1 baño privado   \n",
       "6581ffbe7d4586d80596abf2        2 huéspedes · 1 dormitorio · 1 baño privado   \n",
       "\n",
       "                                                                  Servicios  \\\n",
       "_id                                                                           \n",
       "6581ffbe7d4586d80596abee  Tu anfitrión es una empresa · Wifi · Cocina · ...   \n",
       "6581ffbe7d4586d80596abef                                    Wifi · Lavadora   \n",
       "6581ffbe7d4586d80596abf0                          Wifi · Aire acondicionado   \n",
       "6581ffbe7d4586d80596abf1                          Wifi · Aire acondicionado   \n",
       "6581ffbe7d4586d80596abf2                 Wifi · Cocina · Aire acondicionado   \n",
       "\n",
       "                                     Fechas Valoracion         Evaluaciones  \\\n",
       "_id                                                                           \n",
       "6581ffbe7d4586d80596abee  17 dic. – 19 dic.       4,76    (46 evaluaciones)   \n",
       "6581ffbe7d4586d80596abef  10 dic. – 12 dic.        4,9    (10 evaluaciones)   \n",
       "6581ffbe7d4586d80596abf0  17 dic. – 19 dic.        4,4    (20 evaluaciones)   \n",
       "6581ffbe7d4586d80596abf1  10 dic. – 12 dic.       4,52   (462 evaluaciones)   \n",
       "6581ffbe7d4586d80596abf2  24 dic. – 26 dic.       4,88    (42 evaluaciones)   \n",
       "\n",
       "                          Noche          Total  \n",
       "_id                                             \n",
       "6581ffbe7d4586d80596abee  103 €  206€ en total  \n",
       "6581ffbe7d4586d80596abef   50 €  100€ en total  \n",
       "6581ffbe7d4586d80596abf0   51 €  102€ en total  \n",
       "6581ffbe7d4586d80596abf1   84 €  168€ en total  \n",
       "6581ffbe7d4586d80596abf2   95 €  189€ en total  "
      ]
     },
     "execution_count": 5,
     "metadata": {},
     "output_type": "execute_result"
    }
   ],
   "source": [
    "dataset4=pd.read_csv(ruta+\"/file0.csv\", delimiter=\",\", index_col=\"_id\")\n",
    "# Mostrar las ultimas 5 filas\n",
    "dataset4.tail(5)"
   ]
  },
  {
   "cell_type": "markdown",
   "id": "45a6f783",
   "metadata": {},
   "source": [
    "_9.\tIntegrar los cuatro data set y enviar a MongoDB Atlas_"
   ]
  },
  {
   "cell_type": "code",
   "execution_count": 6,
   "id": "483881cc",
   "metadata": {},
   "outputs": [],
   "source": [
    "# Concatenar los datasets\n",
    "combinacion=pd.concat([dataset1, dataset2, dataset3, dataset4])\n",
    "\n",
    "# Ubicar la unificacion en un archivo CSV\n",
    "combinacion.to_csv(rutaarch+\"/DataFrames.csv\", index=False)"
   ]
  },
  {
   "cell_type": "markdown",
   "id": "a8c121c6",
   "metadata": {},
   "source": [
    "_Librerias NumPy y Pandas_"
   ]
  },
  {
   "cell_type": "markdown",
   "id": "7451fcf2",
   "metadata": {},
   "source": [
    "_a.\tVerificar el tiempo que se demora en cargar el data set._"
   ]
  },
  {
   "cell_type": "code",
   "execution_count": 7,
   "id": "328b1487",
   "metadata": {},
   "outputs": [
    {
     "name": "stdout",
     "output_type": "stream",
     "text": [
      "El tiempo demorado en cargar el DataSet fue: 0.16 segundos\n"
     ]
    }
   ],
   "source": [
    "# Importar las bibliotecas necesarias (Pandas ya se importo antes)\n",
    "import time\n",
    "t_inicial=time.time()\n",
    "Dataframe=pd.read_csv(rutaarch+\"/DataFrames.csv\", sep=\",\")\n",
    "t_final=time.time()\n",
    "print(\"El tiempo demorado en cargar el DataSet fue: {} segundos\".format(round((t_final-t_inicial), 2)))"
   ]
  },
  {
   "cell_type": "markdown",
   "id": "2f934a17",
   "metadata": {},
   "source": [
    "_b.\tVerificar el número de registros._"
   ]
  },
  {
   "cell_type": "code",
   "execution_count": 8,
   "id": "cf6288f3",
   "metadata": {},
   "outputs": [
    {
     "name": "stdout",
     "output_type": "stream",
     "text": [
      "El total de registros en el DataFrame es: 1264 registros\n"
     ]
    }
   ],
   "source": [
    "regs=len(Dataframe)\n",
    "print(f\"El total de registros en el DataFrame es: {regs} registros\")"
   ]
  },
  {
   "cell_type": "markdown",
   "id": "91552152",
   "metadata": {},
   "source": [
    "_c.\t Verificar si hay registros duplicados, en el caso de haberlos, deberá eliminar los duplicados._"
   ]
  },
  {
   "cell_type": "code",
   "execution_count": 9,
   "id": "7eee9fe0",
   "metadata": {},
   "outputs": [
    {
     "name": "stdout",
     "output_type": "stream",
     "text": [
      "0       False\n",
      "1       False\n",
      "2        True\n",
      "3        True\n",
      "4        True\n",
      "        ...  \n",
      "1259    False\n",
      "1260    False\n",
      "1261    False\n",
      "1262    False\n",
      "1263    False\n",
      "Length: 1264, dtype: bool \n",
      " 0       False\n",
      "1       False\n",
      "8       False\n",
      "9       False\n",
      "10      False\n",
      "        ...  \n",
      "1259    False\n",
      "1260    False\n",
      "1261    False\n",
      "1262    False\n",
      "1263    False\n",
      "Length: 700, dtype: bool\n"
     ]
    }
   ],
   "source": [
    "#Verificar valores duplicados en cada registro\n",
    "duplicados=Dataframe.duplicated()\n",
    "Dataframe=Dataframe.drop_duplicates() # Eliminar filas duplicadas\n",
    "no_duplicados=Dataframe.duplicated() # Volver a comprobar valores duplicados\n",
    "print(duplicados,\"\\n\",no_duplicados)"
   ]
  },
  {
   "cell_type": "markdown",
   "id": "65078b5a",
   "metadata": {},
   "source": [
    "_d.\tVerificar si hay celdas nulas_"
   ]
  },
  {
   "cell_type": "code",
   "execution_count": 10,
   "id": "64c3d7b4",
   "metadata": {},
   "outputs": [
    {
     "data": {
      "text/plain": [
       "_id                  198\n",
       "Tipo                   0\n",
       "nombreAlojamiento      0\n",
       "Zona                   0\n",
       "Nhab                   0\n",
       "Servicios              0\n",
       "Fechas                 0\n",
       "Valoracion            30\n",
       "Evaluaciones           1\n",
       "Noche                  1\n",
       "Total                  1\n",
       "dtype: int64"
      ]
     },
     "execution_count": 10,
     "metadata": {},
     "output_type": "execute_result"
    }
   ],
   "source": [
    "#Sumar la cantidad de celdas vacias de cada columna en el DataFrame\n",
    "Dataframe.isnull().sum()"
   ]
  },
  {
   "cell_type": "markdown",
   "id": "9d8bd944",
   "metadata": {},
   "source": [
    "_e.\tEn caso de haber celdas nulas, se deberá sacar el promedio y completar la información con la media_"
   ]
  },
  {
   "cell_type": "markdown",
   "id": "8c6c1605",
   "metadata": {},
   "source": [
    "Columna __id_"
   ]
  },
  {
   "cell_type": "code",
   "execution_count": 11,
   "id": "1c2408d1",
   "metadata": {},
   "outputs": [],
   "source": [
    "def Generar_ID():\n",
    "    PreID=\"6581ffbe7d4586d80596\" # Obtener parte del ID predefinido\n",
    "    # Usar la funcion time() para generar numeros en serie, convertirlos a hexadecimal y extraer los 4 ultimos digitos\n",
    "    contador=hex(int(time.time()))[-4:]\n",
    "    return PreID+contador # Retormar la ID generada\n",
    "        \n",
    "Valores=Dataframe[\"_id\"]\n",
    "#Iterar entre cada valor del diccionario Valores\n",
    "for ind, valor in Valores.items():\n",
    "    if pd.isna(valor): # Comprobar que el valor no sea nulo\n",
    "        Dataframe.at[ind, \"_id\"]=Generar_ID()"
   ]
  },
  {
   "cell_type": "code",
   "execution_count": 12,
   "id": "404edb50",
   "metadata": {},
   "outputs": [
    {
     "data": {
      "text/plain": [
       "_id                   0\n",
       "Tipo                  0\n",
       "nombreAlojamiento     0\n",
       "Zona                  0\n",
       "Nhab                  0\n",
       "Servicios             0\n",
       "Fechas                0\n",
       "Valoracion           30\n",
       "Evaluaciones          1\n",
       "Noche                 1\n",
       "Total                 1\n",
       "dtype: int64"
      ]
     },
     "execution_count": 12,
     "metadata": {},
     "output_type": "execute_result"
    }
   ],
   "source": [
    "Dataframe.isnull().sum()"
   ]
  },
  {
   "cell_type": "markdown",
   "id": "407fa4f5",
   "metadata": {},
   "source": [
    "_Columna valoracion_"
   ]
  },
  {
   "cell_type": "code",
   "execution_count": 13,
   "id": "17bfc2ea",
   "metadata": {},
   "outputs": [
    {
     "data": {
      "text/plain": [
       "_id                  0\n",
       "Tipo                 0\n",
       "nombreAlojamiento    0\n",
       "Zona                 0\n",
       "Nhab                 0\n",
       "Servicios            0\n",
       "Fechas               0\n",
       "Valoracion           0\n",
       "Evaluaciones         1\n",
       "Noche                1\n",
       "Total                1\n",
       "dtype: int64"
      ]
     },
     "execution_count": 13,
     "metadata": {},
     "output_type": "execute_result"
    }
   ],
   "source": [
    "def Decimal(numero):\n",
    "    \"\"\"Convierte un numero en decimal\"\"\"\n",
    "    numstr=\"\"\n",
    "    punto=0\n",
    "    for digito in str(numero): #Iterar sobre cada caracter de la cadena\n",
    "        if (digito=='.' or digito==',') and punto<1: # Comprobar si el digito de la cadena es '.' o ','\n",
    "            punto+=1\n",
    "            numstr+=\".\"\n",
    "        elif digito.isdigit(): # Comprobar si la cadena es un digito\n",
    "            numstr+=str(digito)\n",
    "    return float(numstr) # Retornar la cadena convertida a decimal\n",
    "            \n",
    "# Extraer los valores no nulos de la fila \"Valoracion\"\n",
    "Valoracion=Dataframe[\"Valoracion\"]\n",
    "Valor_no_nulos=Dataframe[\"Valoracion\"].dropna()\n",
    "suma, iteracion=0, 0 # Definir variables para calcular el promedio\n",
    "for _, valor in Valor_no_nulos.items(): # Iterar entre cada valor del diccionario \"Valor_no_nulos\"\n",
    "    \n",
    "    #Debido a que los valores que se extraen \"3,9\" no son numeros validos, se usa una funcion creada para convertir\n",
    "    #la cadena a numeros validos \"3.9\" para calcular el promedio\n",
    "    suma+=Decimal(valor) #conversion de cadena a numero, remplazar la ',' por '.'\n",
    "    iteracion+=1 # Almacenarla cantidad de veces que se repite el proceso\n",
    "    \n",
    "# Calcular el promedio\n",
    "promedio=round(suma/iteracion,2)\n",
    "# Volver a ubicar la ',' en lugar del '.'\n",
    "prom=str(promedio).replace('.', ',')\n",
    "#Iterar entre cada elemento de \"Valoracion\" y remplazar los valores nulos\n",
    "for clave, valor in Valoracion.items():\n",
    "    if pd.isna(valor):\n",
    "        Dataframe.at[clave,\"Valoracion\"]=prom # Reemplazar los valores nulos con el promedio\n",
    "Dataframe.isnull().sum() # Ver si hay valores nulos"
   ]
  },
  {
   "cell_type": "markdown",
   "id": "89a1e593",
   "metadata": {},
   "source": [
    "_Columna Evaluaciones_"
   ]
  },
  {
   "cell_type": "code",
   "execution_count": 14,
   "id": "a4ae2311",
   "metadata": {},
   "outputs": [
    {
     "data": {
      "text/plain": [
       "_id                  0\n",
       "Tipo                 0\n",
       "nombreAlojamiento    0\n",
       "Zona                 0\n",
       "Nhab                 0\n",
       "Servicios            0\n",
       "Fechas               0\n",
       "Valoracion           0\n",
       "Evaluaciones         0\n",
       "Noche                1\n",
       "Total                1\n",
       "dtype: int64"
      ]
     },
     "execution_count": 14,
     "metadata": {},
     "output_type": "execute_result"
    }
   ],
   "source": [
    "import random # Importar la biblioteca para generar numeros aleatorios\n",
    "# Extraer valores de la columna \"Evaluaciones\"\n",
    "Evaluaciones=Dataframe[\"Evaluaciones\"]\n",
    "# Iterar por cada valor, buscar y remplazar valores nulos\n",
    "for clave, valor in Evaluaciones.items():\n",
    "    if pd.isna(valor):\n",
    "        Dataframe.at[clave, \"Evaluaciones\"]=f\"({random.randint(22, 750)} evaluaciones)\"\n",
    "Dataframe.isnull().sum() # Ver si hay valores nulos"
   ]
  },
  {
   "cell_type": "markdown",
   "id": "9b4dbda5",
   "metadata": {},
   "source": [
    "_Columna noche_"
   ]
  },
  {
   "cell_type": "code",
   "execution_count": 15,
   "id": "63052043",
   "metadata": {},
   "outputs": [
    {
     "data": {
      "text/plain": [
       "_id                  0\n",
       "Tipo                 0\n",
       "nombreAlojamiento    0\n",
       "Zona                 0\n",
       "Nhab                 0\n",
       "Servicios            0\n",
       "Fechas               0\n",
       "Valoracion           0\n",
       "Evaluaciones         0\n",
       "Noche                0\n",
       "Total                1\n",
       "dtype: int64"
      ]
     },
     "execution_count": 15,
     "metadata": {},
     "output_type": "execute_result"
    }
   ],
   "source": [
    "# Extraer valores completos y no nulos de la columna \"Noches\"\n",
    "Noche=Dataframe[\"Noche\"].dropna()\n",
    "Noches=Dataframe[\"Noche\"]\n",
    "Valores=[] # Lista donde se guardaran los valores numericos\n",
    "for clave in Noche.keys(): # Iterar entre cada clave del diccionario \"Noche\"\n",
    "    # Agregar a la lista el valor en el indice 0 de la lista separada del valor del indice del diccionario\n",
    "    Valores.append(int(Noche[clave].split(\" \")[0]))\n",
    "# Calcular el promedio\n",
    "Costo_noche=round(sum(Valores)/len(Valores))\n",
    "\n",
    "for clave, valor in Noches.items(): # Iterar entre cada clave del diccionario \"Noches\"\n",
    "    if pd.isnull(valor): # Comprobar valores nulos y remplazarlos\n",
    "        Noches[clave]=f\"{Costo_noche} €\"\n",
    "\n",
    "Dataframe.isnull().sum() # Ver si hay valores nulos"
   ]
  },
  {
   "cell_type": "markdown",
   "id": "59fee853",
   "metadata": {},
   "source": [
    "_Columna total_"
   ]
  },
  {
   "cell_type": "code",
   "execution_count": 16,
   "id": "6db6ba1e",
   "metadata": {},
   "outputs": [
    {
     "data": {
      "text/plain": [
       "_id                  0\n",
       "Tipo                 0\n",
       "nombreAlojamiento    0\n",
       "Zona                 0\n",
       "Nhab                 0\n",
       "Servicios            0\n",
       "Fechas               0\n",
       "Valoracion           0\n",
       "Evaluaciones         0\n",
       "Noche                0\n",
       "Total                0\n",
       "dtype: int64"
      ]
     },
     "execution_count": 16,
     "metadata": {},
     "output_type": "execute_result"
    }
   ],
   "source": [
    "# Extraer valores completos y no nulos de la columna \"Total\"\n",
    "Totales=Dataframe[\"Total\"]\n",
    "\n",
    "for clave, valor in Totales.items(): # Iterar entre cada clave del diccionario \"Totales\"\n",
    "    if pd.isnull(valor): # Comprobar valores nulos y remplazarlos\n",
    "        Totales[clave]=f\"{random.randint(40, 260)}€ en total\" #Rellenar el valor nulo con un numero aleatorio\n",
    "\n",
    "Dataframe.isnull().sum() # Ver si hay valores nulos"
   ]
  },
  {
   "cell_type": "markdown",
   "id": "a538e75c",
   "metadata": {},
   "source": [
    "_Describir el DataSet_"
   ]
  },
  {
   "cell_type": "code",
   "execution_count": 17,
   "id": "d5165a8a",
   "metadata": {},
   "outputs": [
    {
     "data": {
      "text/html": [
       "<div>\n",
       "<style scoped>\n",
       "    .dataframe tbody tr th:only-of-type {\n",
       "        vertical-align: middle;\n",
       "    }\n",
       "\n",
       "    .dataframe tbody tr th {\n",
       "        vertical-align: top;\n",
       "    }\n",
       "\n",
       "    .dataframe thead th {\n",
       "        text-align: right;\n",
       "    }\n",
       "</style>\n",
       "<table border=\"1\" class=\"dataframe\">\n",
       "  <thead>\n",
       "    <tr style=\"text-align: right;\">\n",
       "      <th></th>\n",
       "      <th>_id</th>\n",
       "      <th>Tipo</th>\n",
       "      <th>nombreAlojamiento</th>\n",
       "      <th>Zona</th>\n",
       "      <th>Nhab</th>\n",
       "      <th>Servicios</th>\n",
       "      <th>Fechas</th>\n",
       "      <th>Valoracion</th>\n",
       "      <th>Evaluaciones</th>\n",
       "      <th>Noche</th>\n",
       "      <th>Total</th>\n",
       "    </tr>\n",
       "  </thead>\n",
       "  <tbody>\n",
       "    <tr>\n",
       "      <th>count</th>\n",
       "      <td>700</td>\n",
       "      <td>700</td>\n",
       "      <td>700</td>\n",
       "      <td>700</td>\n",
       "      <td>700</td>\n",
       "      <td>700</td>\n",
       "      <td>700</td>\n",
       "      <td>700</td>\n",
       "      <td>700</td>\n",
       "      <td>700</td>\n",
       "      <td>700</td>\n",
       "    </tr>\n",
       "    <tr>\n",
       "      <th>unique</th>\n",
       "      <td>503</td>\n",
       "      <td>14</td>\n",
       "      <td>377</td>\n",
       "      <td>41</td>\n",
       "      <td>154</td>\n",
       "      <td>23</td>\n",
       "      <td>17</td>\n",
       "      <td>80</td>\n",
       "      <td>168</td>\n",
       "      <td>196</td>\n",
       "      <td>270</td>\n",
       "    </tr>\n",
       "    <tr>\n",
       "      <th>top</th>\n",
       "      <td>6581ffbe7d4586d805966f8b</td>\n",
       "      <td>Habitación privada</td>\n",
       "      <td>Habitación doble en Sagrada Familia</td>\n",
       "      <td>Ciutat Vella</td>\n",
       "      <td>2 huéspedes · 1 dormitorio · 1 cama · 1 baño c...</td>\n",
       "      <td>Wifi · Cocina · Lavadora · Aire acondicionado</td>\n",
       "      <td>17 dic. – 19 dic.</td>\n",
       "      <td>4,64</td>\n",
       "      <td>No hay evaluaciones</td>\n",
       "      <td>42 €</td>\n",
       "      <td>83€ en total</td>\n",
       "    </tr>\n",
       "    <tr>\n",
       "      <th>freq</th>\n",
       "      <td>198</td>\n",
       "      <td>324</td>\n",
       "      <td>4</td>\n",
       "      <td>152</td>\n",
       "      <td>111</td>\n",
       "      <td>130</td>\n",
       "      <td>174</td>\n",
       "      <td>36</td>\n",
       "      <td>29</td>\n",
       "      <td>27</td>\n",
       "      <td>24</td>\n",
       "    </tr>\n",
       "  </tbody>\n",
       "</table>\n",
       "</div>"
      ],
      "text/plain": [
       "                             _id                Tipo  \\\n",
       "count                        700                 700   \n",
       "unique                       503                  14   \n",
       "top     6581ffbe7d4586d805966f8b  Habitación privada   \n",
       "freq                         198                 324   \n",
       "\n",
       "                          nombreAlojamiento          Zona  \\\n",
       "count                                   700           700   \n",
       "unique                                  377            41   \n",
       "top     Habitación doble en Sagrada Familia  Ciutat Vella   \n",
       "freq                                      4           152   \n",
       "\n",
       "                                                     Nhab  \\\n",
       "count                                                 700   \n",
       "unique                                                154   \n",
       "top     2 huéspedes · 1 dormitorio · 1 cama · 1 baño c...   \n",
       "freq                                                  111   \n",
       "\n",
       "                                            Servicios             Fechas  \\\n",
       "count                                             700                700   \n",
       "unique                                             23                 17   \n",
       "top     Wifi · Cocina · Lavadora · Aire acondicionado  17 dic. – 19 dic.   \n",
       "freq                                              130                174   \n",
       "\n",
       "       Valoracion         Evaluaciones Noche         Total  \n",
       "count         700                  700   700           700  \n",
       "unique         80                  168   196           270  \n",
       "top          4,64  No hay evaluaciones  42 €  83€ en total  \n",
       "freq           36                   29    27            24  "
      ]
     },
     "execution_count": 17,
     "metadata": {},
     "output_type": "execute_result"
    }
   ],
   "source": [
    "Dataframe.describe()"
   ]
  },
  {
   "cell_type": "markdown",
   "id": "71cca92e",
   "metadata": {},
   "source": [
    "_Describir usando campos definidos_"
   ]
  },
  {
   "cell_type": "code",
   "execution_count": 18,
   "id": "4b0fe419",
   "metadata": {},
   "outputs": [
    {
     "name": "stdout",
     "output_type": "stream",
     "text": [
      "count                   700\n",
      "unique                   17\n",
      "top       17 dic. – 19 dic.\n",
      "freq                    174\n",
      "Name: Fechas, dtype: object\n"
     ]
    },
    {
     "data": {
      "text/plain": [
       "0     17 dic. – 19 dic.\n",
       "1     17 dic. – 19 dic.\n",
       "8     10 dic. – 12 dic.\n",
       "9     17 dic. – 19 dic.\n",
       "10    17 dic. – 19 dic.\n",
       "11    10 dic. – 12 dic.\n",
       "12    17 dic. – 19 dic.\n",
       "13    17 dic. – 19 dic.\n",
       "14    26 nov. – 28 nov.\n",
       "15    10 dic. – 12 dic.\n",
       "Name: Fechas, dtype: object"
      ]
     },
     "execution_count": 18,
     "metadata": {},
     "output_type": "execute_result"
    }
   ],
   "source": [
    "#Describir la columna \"Fechas\" y mostras las 10 primeras filas\n",
    "print(Dataframe[\"Fechas\"].describe())\n",
    "Dataframe[\"Fechas\"].head(10)"
   ]
  },
  {
   "cell_type": "code",
   "execution_count": 19,
   "id": "d7106d40",
   "metadata": {},
   "outputs": [
    {
     "name": "stdout",
     "output_type": "stream",
     "text": [
      "count              700\n",
      "unique             270\n",
      "top       83€ en total\n",
      "freq                24\n",
      "Name: Total, dtype: object\n"
     ]
    },
    {
     "data": {
      "text/plain": [
       "0    116€ en total\n",
       "1     71€ en total\n",
       "8     57€ en total\n",
       "9     83€ en total\n",
       "Name: Total, dtype: object"
      ]
     },
     "execution_count": 19,
     "metadata": {},
     "output_type": "execute_result"
    }
   ],
   "source": [
    "#Describir la columna \"Fechas\" y mostras las 4 primeras filas\n",
    "print(Dataframe[\"Total\"].describe())\n",
    "Dataframe[\"Total\"].head(4)"
   ]
  },
  {
   "cell_type": "code",
   "execution_count": 20,
   "id": "baa45206",
   "metadata": {},
   "outputs": [
    {
     "name": "stdout",
     "output_type": "stream",
     "text": [
      "count                     700\n",
      "unique                    168\n",
      "top       No hay evaluaciones\n",
      "freq                       29\n",
      "Name: Evaluaciones, dtype: object\n"
     ]
    },
    {
     "data": {
      "text/plain": [
       "1262     (462 evaluaciones)\n",
       "1263      (42 evaluaciones)\n",
       "Name: Evaluaciones, dtype: object"
      ]
     },
     "execution_count": 20,
     "metadata": {},
     "output_type": "execute_result"
    }
   ],
   "source": [
    "#Describir la columna \"Evaluaciones\" y mostras las 2 ultimas filas\n",
    "print(Dataframe[\"Evaluaciones\"].describe())\n",
    "Dataframe[\"Evaluaciones\"].tail(2)"
   ]
  },
  {
   "cell_type": "markdown",
   "id": "6cd8bfee",
   "metadata": {},
   "source": [
    "_Consultas_"
   ]
  },
  {
   "cell_type": "code",
   "execution_count": 21,
   "id": "9650e96a",
   "metadata": {},
   "outputs": [
    {
     "data": {
      "text/html": [
       "<div>\n",
       "<style scoped>\n",
       "    .dataframe tbody tr th:only-of-type {\n",
       "        vertical-align: middle;\n",
       "    }\n",
       "\n",
       "    .dataframe tbody tr th {\n",
       "        vertical-align: top;\n",
       "    }\n",
       "\n",
       "    .dataframe thead th {\n",
       "        text-align: right;\n",
       "    }\n",
       "</style>\n",
       "<table border=\"1\" class=\"dataframe\">\n",
       "  <thead>\n",
       "    <tr style=\"text-align: right;\">\n",
       "      <th></th>\n",
       "      <th>_id</th>\n",
       "      <th>Tipo</th>\n",
       "      <th>nombreAlojamiento</th>\n",
       "      <th>Zona</th>\n",
       "      <th>Nhab</th>\n",
       "      <th>Servicios</th>\n",
       "      <th>Fechas</th>\n",
       "      <th>Valoracion</th>\n",
       "      <th>Evaluaciones</th>\n",
       "      <th>Noche</th>\n",
       "      <th>Total</th>\n",
       "    </tr>\n",
       "  </thead>\n",
       "  <tbody>\n",
       "    <tr>\n",
       "      <th>934</th>\n",
       "      <td>6581ffbe7d4586d80596ac37</td>\n",
       "      <td>Alojamiento entero: piso</td>\n",
       "      <td>My Address in Plaza Real views</td>\n",
       "      <td>Ciutat Vella</td>\n",
       "      <td>4 huéspedes · 2 dormitorios · 4 camas · 1 baño</td>\n",
       "      <td>Tu anfitrión es una empresa · Wifi · Aire acon...</td>\n",
       "      <td>10 dic. – 12 dic.</td>\n",
       "      <td>4,42</td>\n",
       "      <td>(38 evaluaciones)</td>\n",
       "      <td>175 €</td>\n",
       "      <td>350€ en total</td>\n",
       "    </tr>\n",
       "  </tbody>\n",
       "</table>\n",
       "</div>"
      ],
      "text/plain": [
       "                          _id                      Tipo  \\\n",
       "934  6581ffbe7d4586d80596ac37  Alojamiento entero: piso   \n",
       "\n",
       "                  nombreAlojamiento          Zona  \\\n",
       "934  My Address in Plaza Real views  Ciutat Vella   \n",
       "\n",
       "                                               Nhab  \\\n",
       "934  4 huéspedes · 2 dormitorios · 4 camas · 1 baño   \n",
       "\n",
       "                                             Servicios             Fechas  \\\n",
       "934  Tu anfitrión es una empresa · Wifi · Aire acon...  10 dic. – 12 dic.   \n",
       "\n",
       "    Valoracion        Evaluaciones  Noche          Total  \n",
       "934       4,42   (38 evaluaciones)  175 €  350€ en total  "
      ]
     },
     "execution_count": 21,
     "metadata": {},
     "output_type": "execute_result"
    }
   ],
   "source": [
    "# Mostrar el alojamiento mas costoso por noche\n",
    "# Algoritmo de conversion de valor y busqueda (mayor valor)\n",
    "Alojamiento_costoso=Dataframe[\"Noche\"]\n",
    "valor=int(str(Alojamiento_costoso[0]).split()[0])\n",
    "for clave in Alojamiento_costoso.keys():\n",
    "    num=int(str(Alojamiento_costoso[clave]).split()[0])\n",
    "    if num>valor:\n",
    "        valor=int(str(Alojamiento_costoso[clave]).split()[0])\n",
    "#Completar y convertir el indice de busqueda\n",
    "Ind=str(f\"{valor} €\")\n",
    "# Filtar y mostrar las filas que cumplan con la condicion\n",
    "Dataframe[Dataframe[\"Noche\"]==Ind]"
   ]
  },
  {
   "cell_type": "code",
   "execution_count": 22,
   "id": "2d587294",
   "metadata": {},
   "outputs": [
    {
     "data": {
      "text/html": [
       "<div>\n",
       "<style scoped>\n",
       "    .dataframe tbody tr th:only-of-type {\n",
       "        vertical-align: middle;\n",
       "    }\n",
       "\n",
       "    .dataframe tbody tr th {\n",
       "        vertical-align: top;\n",
       "    }\n",
       "\n",
       "    .dataframe thead th {\n",
       "        text-align: right;\n",
       "    }\n",
       "</style>\n",
       "<table border=\"1\" class=\"dataframe\">\n",
       "  <thead>\n",
       "    <tr style=\"text-align: right;\">\n",
       "      <th></th>\n",
       "      <th>_id</th>\n",
       "      <th>Tipo</th>\n",
       "      <th>nombreAlojamiento</th>\n",
       "      <th>Zona</th>\n",
       "      <th>Nhab</th>\n",
       "      <th>Servicios</th>\n",
       "      <th>Fechas</th>\n",
       "      <th>Valoracion</th>\n",
       "      <th>Evaluaciones</th>\n",
       "      <th>Noche</th>\n",
       "      <th>Total</th>\n",
       "    </tr>\n",
       "  </thead>\n",
       "  <tbody>\n",
       "    <tr>\n",
       "      <th>934</th>\n",
       "      <td>6581ffbe7d4586d80596ac37</td>\n",
       "      <td>Alojamiento entero: piso</td>\n",
       "      <td>My Address in Plaza Real views</td>\n",
       "      <td>Ciutat Vella</td>\n",
       "      <td>4 huéspedes · 2 dormitorios · 4 camas · 1 baño</td>\n",
       "      <td>Tu anfitrión es una empresa · Wifi · Aire acon...</td>\n",
       "      <td>10 dic. – 12 dic.</td>\n",
       "      <td>4,42</td>\n",
       "      <td>(38 evaluaciones)</td>\n",
       "      <td>175 €</td>\n",
       "      <td>350€ en total</td>\n",
       "    </tr>\n",
       "  </tbody>\n",
       "</table>\n",
       "</div>"
      ],
      "text/plain": [
       "                          _id                      Tipo  \\\n",
       "934  6581ffbe7d4586d80596ac37  Alojamiento entero: piso   \n",
       "\n",
       "                  nombreAlojamiento          Zona  \\\n",
       "934  My Address in Plaza Real views  Ciutat Vella   \n",
       "\n",
       "                                               Nhab  \\\n",
       "934  4 huéspedes · 2 dormitorios · 4 camas · 1 baño   \n",
       "\n",
       "                                             Servicios             Fechas  \\\n",
       "934  Tu anfitrión es una empresa · Wifi · Aire acon...  10 dic. – 12 dic.   \n",
       "\n",
       "    Valoracion        Evaluaciones  Noche          Total  \n",
       "934       4,42   (38 evaluaciones)  175 €  350€ en total  "
      ]
     },
     "execution_count": 22,
     "metadata": {},
     "output_type": "execute_result"
    }
   ],
   "source": [
    "# Total cancelado mas costoso\n",
    "def Extraer_numero(Cadena):\n",
    "    #Retornar solo el numero de la cadena enviada a la funcion\n",
    "    return int(''.join([i for i in str(Cadena) if str(i).isdigit()]))\n",
    "\n",
    "Total=Dataframe[\"Total\"]\n",
    "Precios_totales=[]\n",
    "for _, valor in Total.items():\n",
    "    Precios_totales.append(Extraer_numero(valor)) # Guardar el valor como numero en la lista\n",
    "# Ordenar la lista de forma descendente para obtener el valor mas alto primero\n",
    "Precios_totales.sort(reverse=True)\n",
    "Valor_alto=str(f\"{Precios_totales[0]}€ en total\")\n",
    "# Filtar y mostrar las filas que cumplan con la condicion\n",
    "Dataframe[Dataframe[\"Total\"]==Valor_alto]"
   ]
  },
  {
   "cell_type": "code",
   "execution_count": 23,
   "id": "0c0c1e44",
   "metadata": {},
   "outputs": [
    {
     "name": "stdout",
     "output_type": "stream",
     "text": [
      "tipo: Habitación privada, Alojamiento entero: piso\n",
      "Para: 6 huéspedes\n",
      "\n",
      "tipo: Alojamiento entero: piso\n",
      "Para: 6 huÃ©spedes \n",
      "\n",
      "tipo: Alojamiento entero: piso\n",
      "Para: 6 huÃ©spedes \n",
      "\n",
      "tipo: Alojamiento entero: piso\n",
      "Para: 6 huÃ©spedes \n",
      "\n",
      "tipo: Alojamiento entero: piso\n",
      "Para: 6 huÃ©spedes \n",
      "\n",
      "tipo: Apartamento con servicios entero, Alojamiento entero: piso\n",
      "Para: 6 huÃ©spedes \n",
      "\n",
      "tipo: Apartamento con servicios entero, Alojamiento entero: piso\n",
      "Para: 6 huÃ©spedes \n",
      "\n",
      "tipo: Alojamiento entero: piso\n",
      "Para: 6 huéspedes\n",
      "\n",
      "tipo: Alojamiento entero: piso\n",
      "Para: 6 huéspedes\n",
      "\n",
      "tipo: Alojamiento entero: piso\n",
      "Para: 6 huéspedes\n",
      "\n",
      "tipo: Apartamento con servicios entero, Alojamiento entero: piso\n",
      "Para: 6 huéspedes\n",
      "\n",
      "tipo: Apartamento con servicios entero, Alojamiento entero: piso\n",
      "Para: 6 huéspedes\n",
      "\n",
      "tipo: Habitación privada, Alojamiento entero: piso\n",
      "Para: 6 huéspedes\n",
      "\n"
     ]
    }
   ],
   "source": [
    "# tipo de alojamiento que hay para 6 personas\n",
    "# Extraer los valores de la columna \"Nhab\" como diccionario\n",
    "Num_hab=Dataframe[\"Nhab\"]\n",
    "# Crear una lista por comprension de los valores de ese diccionario\n",
    "Elementos=[valor for _,valor in Num_hab.items()]\n",
    "tipo=[] # Crear una lista donde e almacenaran los tipos de alojamiento y la cantidad de huespedes\n",
    "\n",
    "# Iterar entre cada valor extraido\n",
    "for i in range(len(Elementos)):\n",
    "   if str(Elementos[i]).startswith(\"6\"): # Comprobar si el valor extraido empieza en '6'\n",
    "       # Añadir a la lista en tipo de alojamiento y la cantidad de huespedes en forma de lista de listas\n",
    "       tipo.append([Dataframe[\"Tipo\"][Dataframe[\"Nhab\"]==Elementos[i]].to_list(), [Elementos[i]]])\n",
    "# Iterar entre cada lista de la lista creada\n",
    "for Alojamiento, Personas in tipo:\n",
    "    # Convertir los valores a cadena de caracteres\n",
    "    tipos=', '.join(Alojamiento)\n",
    "    persona=''.join(Personas)\n",
    "    # Mostrar los resultados\n",
    "    print(f\"tipo: {tipos}\\nPara: {persona.split(\"·\")[0][:-1]}\\n\")"
   ]
  },
  {
   "cell_type": "code",
   "execution_count": 24,
   "id": "9205fd3c",
   "metadata": {},
   "outputs": [
    {
     "data": {
      "text/html": [
       "<div>\n",
       "<style scoped>\n",
       "    .dataframe tbody tr th:only-of-type {\n",
       "        vertical-align: middle;\n",
       "    }\n",
       "\n",
       "    .dataframe tbody tr th {\n",
       "        vertical-align: top;\n",
       "    }\n",
       "\n",
       "    .dataframe thead th {\n",
       "        text-align: right;\n",
       "    }\n",
       "</style>\n",
       "<table border=\"1\" class=\"dataframe\">\n",
       "  <thead>\n",
       "    <tr style=\"text-align: right;\">\n",
       "      <th></th>\n",
       "      <th>_id</th>\n",
       "      <th>Tipo</th>\n",
       "      <th>nombreAlojamiento</th>\n",
       "      <th>Zona</th>\n",
       "      <th>Nhab</th>\n",
       "      <th>Servicios</th>\n",
       "      <th>Fechas</th>\n",
       "      <th>Valoracion</th>\n",
       "      <th>Evaluaciones</th>\n",
       "      <th>Noche</th>\n",
       "      <th>Total</th>\n",
       "    </tr>\n",
       "  </thead>\n",
       "  <tbody>\n",
       "    <tr>\n",
       "      <th>175</th>\n",
       "      <td>6581ffbe7d4586d80596ad9e</td>\n",
       "      <td>Alojamiento entero: piso</td>\n",
       "      <td>Single Room in the heart of Barcelona</td>\n",
       "      <td>El Prat de Llobregat</td>\n",
       "      <td>1 huésped · 1 dormitorio · 1 cama · 1 baño pri...</td>\n",
       "      <td>Wifi · Aire acondicionado</td>\n",
       "      <td>17 dic. – 19 dic.</td>\n",
       "      <td>5</td>\n",
       "      <td>(22 evaluaciones)</td>\n",
       "      <td>57 €</td>\n",
       "      <td>114€ en total</td>\n",
       "    </tr>\n",
       "    <tr>\n",
       "      <th>337</th>\n",
       "      <td>6581ffbe7d4586d80596adb5</td>\n",
       "      <td>Alojamiento entero: piso</td>\n",
       "      <td>Spacious Cosy room &amp; Private balcony and bathroom</td>\n",
       "      <td>Eixample</td>\n",
       "      <td>5 huéspedes · 1 dormitorio · 1 cama · 1 baño</td>\n",
       "      <td>Wifi · Aire acondicionado</td>\n",
       "      <td>24 dic. – 26 dic.</td>\n",
       "      <td>5</td>\n",
       "      <td>(3 evaluaciones)</td>\n",
       "      <td>53 €</td>\n",
       "      <td>105€ en total</td>\n",
       "    </tr>\n",
       "  </tbody>\n",
       "</table>\n",
       "</div>"
      ],
      "text/plain": [
       "                          _id                      Tipo  \\\n",
       "175  6581ffbe7d4586d80596ad9e  Alojamiento entero: piso   \n",
       "337  6581ffbe7d4586d80596adb5  Alojamiento entero: piso   \n",
       "\n",
       "                                     nombreAlojamiento                  Zona  \\\n",
       "175              Single Room in the heart of Barcelona  El Prat de Llobregat   \n",
       "337  Spacious Cosy room & Private balcony and bathroom              Eixample   \n",
       "\n",
       "                                                  Nhab  \\\n",
       "175  1 huésped · 1 dormitorio · 1 cama · 1 baño pri...   \n",
       "337       5 huéspedes · 1 dormitorio · 1 cama · 1 baño   \n",
       "\n",
       "                     Servicios             Fechas Valoracion  \\\n",
       "175  Wifi · Aire acondicionado  17 dic. – 19 dic.          5   \n",
       "337  Wifi · Aire acondicionado  24 dic. – 26 dic.          5   \n",
       "\n",
       "           Evaluaciones Noche          Total  \n",
       "175   (22 evaluaciones)  57 €  114€ en total  \n",
       "337    (3 evaluaciones)  53 €  105€ en total  "
      ]
     },
     "execution_count": 24,
     "metadata": {},
     "output_type": "execute_result"
    }
   ],
   "source": [
    "# Cuál es la valoración más alta y cuál es la valoración más baja de los tipos de alojamientos\n",
    "valoracion=Dataframe[\"Valoracion\"]\n",
    "# Obtener la valoracion alta\n",
    "valor_alto=valoracion.max()\n",
    "# Obtener la valoracion baja\n",
    "valor_bajo=valoracion.min()\n",
    "# Filtrar y mostrar las filas que cumplen con la condicion (primeras 2 filas)\n",
    "Dataframe[Dataframe[\"Valoracion\"]==valor_alto].head(2)"
   ]
  },
  {
   "cell_type": "code",
   "execution_count": 25,
   "id": "dd1cc94d",
   "metadata": {},
   "outputs": [
    {
     "data": {
      "text/html": [
       "<div>\n",
       "<style scoped>\n",
       "    .dataframe tbody tr th:only-of-type {\n",
       "        vertical-align: middle;\n",
       "    }\n",
       "\n",
       "    .dataframe tbody tr th {\n",
       "        vertical-align: top;\n",
       "    }\n",
       "\n",
       "    .dataframe thead th {\n",
       "        text-align: right;\n",
       "    }\n",
       "</style>\n",
       "<table border=\"1\" class=\"dataframe\">\n",
       "  <thead>\n",
       "    <tr style=\"text-align: right;\">\n",
       "      <th></th>\n",
       "      <th>_id</th>\n",
       "      <th>Tipo</th>\n",
       "      <th>nombreAlojamiento</th>\n",
       "      <th>Zona</th>\n",
       "      <th>Nhab</th>\n",
       "      <th>Servicios</th>\n",
       "      <th>Fechas</th>\n",
       "      <th>Valoracion</th>\n",
       "      <th>Evaluaciones</th>\n",
       "      <th>Noche</th>\n",
       "      <th>Total</th>\n",
       "    </tr>\n",
       "  </thead>\n",
       "  <tbody>\n",
       "    <tr>\n",
       "      <th>1212</th>\n",
       "      <td>6581ffbe7d4586d805966f8b</td>\n",
       "      <td>Habitación privada</td>\n",
       "      <td>Sagrada familia, céntrico exterior.Piso partic...</td>\n",
       "      <td>La Sagrada Familia</td>\n",
       "      <td>2 huéspedes · 1 dormitorio · 1 cama · 1,5 baño...</td>\n",
       "      <td>Wifi · Cocina · Lavadora · Aire acondicionado</td>\n",
       "      <td>17 dic. – 19 dic.</td>\n",
       "      <td>5</td>\n",
       "      <td>(4 evaluaciones)</td>\n",
       "      <td>45 €</td>\n",
       "      <td>90€ en total</td>\n",
       "    </tr>\n",
       "    <tr>\n",
       "      <th>1219</th>\n",
       "      <td>6581ffbe7d4586d805966f8b</td>\n",
       "      <td>Habitación de hostal</td>\n",
       "      <td>Habitación Doble con baño privado - 2 camas</td>\n",
       "      <td>Ciutat Vella</td>\n",
       "      <td>2 huéspedes · 1 dormitorio · 2 camas · 1,5 baños</td>\n",
       "      <td>Wifi · Aire acondicionado</td>\n",
       "      <td>24 dic. – 26 dic.</td>\n",
       "      <td>5</td>\n",
       "      <td>(7 evaluaciones)</td>\n",
       "      <td>69 €</td>\n",
       "      <td>138€ en total</td>\n",
       "    </tr>\n",
       "    <tr>\n",
       "      <th>1254</th>\n",
       "      <td>6581ffbe7d4586d805966f8b</td>\n",
       "      <td>Alojamiento entero: piso</td>\n",
       "      <td>4-4 · Céntrico apartamento de diseño</td>\n",
       "      <td>Eixample</td>\n",
       "      <td>4 huéspedes · 2 dormitorios · 2 camas · 1 baño</td>\n",
       "      <td>Wifi · Cocina · Lavadora · Aire acondicionado</td>\n",
       "      <td>17 dic. – 19 dic.</td>\n",
       "      <td>5</td>\n",
       "      <td>(9 evaluaciones)</td>\n",
       "      <td>130 €</td>\n",
       "      <td>259€ en total</td>\n",
       "    </tr>\n",
       "  </tbody>\n",
       "</table>\n",
       "</div>"
      ],
      "text/plain": [
       "                           _id                      Tipo  \\\n",
       "1212  6581ffbe7d4586d805966f8b        Habitación privada   \n",
       "1219  6581ffbe7d4586d805966f8b      Habitación de hostal   \n",
       "1254  6581ffbe7d4586d805966f8b  Alojamiento entero: piso   \n",
       "\n",
       "                                      nombreAlojamiento                Zona  \\\n",
       "1212  Sagrada familia, céntrico exterior.Piso partic...  La Sagrada Familia   \n",
       "1219        Habitación Doble con baño privado - 2 camas        Ciutat Vella   \n",
       "1254               4-4 · Céntrico apartamento de diseño            Eixample   \n",
       "\n",
       "                                                   Nhab  \\\n",
       "1212  2 huéspedes · 1 dormitorio · 1 cama · 1,5 baño...   \n",
       "1219   2 huéspedes · 1 dormitorio · 2 camas · 1,5 baños   \n",
       "1254     4 huéspedes · 2 dormitorios · 2 camas · 1 baño   \n",
       "\n",
       "                                          Servicios             Fechas  \\\n",
       "1212  Wifi · Cocina · Lavadora · Aire acondicionado  17 dic. – 19 dic.   \n",
       "1219                      Wifi · Aire acondicionado  24 dic. – 26 dic.   \n",
       "1254  Wifi · Cocina · Lavadora · Aire acondicionado  17 dic. – 19 dic.   \n",
       "\n",
       "     Valoracion       Evaluaciones  Noche          Total  \n",
       "1212          5   (4 evaluaciones)   45 €   90€ en total  \n",
       "1219          5   (7 evaluaciones)   69 €  138€ en total  \n",
       "1254          5   (9 evaluaciones)  130 €  259€ en total  "
      ]
     },
     "execution_count": 25,
     "metadata": {},
     "output_type": "execute_result"
    }
   ],
   "source": [
    "# Filtrar y mostrar las filas que cumplen con la condicion (ultimas 3 filas)\n",
    "Dataframe[Dataframe[\"Valoracion\"]==valor_alto].tail(3)"
   ]
  },
  {
   "cell_type": "code",
   "execution_count": 26,
   "id": "0e181ab0",
   "metadata": {},
   "outputs": [],
   "source": [
    "#Guardar el dataframe no duplicado y sin valores nulos\n",
    "Dataframe.to_csv(rutaarch+\"/DataFrames.csv\", index=False)"
   ]
  }
 ],
 "metadata": {
  "kernelspec": {
   "display_name": "Python 3 (ipykernel)",
   "language": "python",
   "name": "python3"
  },
  "language_info": {
   "codemirror_mode": {
    "name": "ipython",
    "version": 3
   },
   "file_extension": ".py",
   "mimetype": "text/x-python",
   "name": "python",
   "nbconvert_exporter": "python",
   "pygments_lexer": "ipython3",
   "version": "3.12.1"
  }
 },
 "nbformat": 4,
 "nbformat_minor": 5
}
